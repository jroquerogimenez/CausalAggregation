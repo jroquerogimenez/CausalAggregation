{
 "cells": [
  {
   "cell_type": "code",
   "execution_count": 33,
   "metadata": {},
   "outputs": [],
   "source": [
    "import sys, os, itertools, sklearn\n",
    "sys.path.append('/home/roquero/CausalAggregation/Code')\n",
    "import pandas as pd\n",
    "import numpy as np\n",
    "import _pickle as pkl\n",
    "import matplotlib.pyplot as plt\n",
    "import seaborn as sns\n",
    "\n",
    "from sklearn import linear_model\n",
    "from sklearn.linear_model import LassoCV, Lasso\n",
    "from sklearn import datasets\n",
    "from sklearn.metrics import auc\n",
    "from scipy.interpolate import UnivariateSpline\n",
    "from IPython.core.interactiveshell import InteractiveShell\n",
    "InteractiveShell.ast_node_interactivity = \"all\"\n",
    "%reload_ext autoreload\n",
    "%autoreload 2\n",
    "np.set_printoptions(suppress=True)\n",
    "np.set_printoptions(formatter={'float': lambda x: \"{0:0.3f}\".format(x)}, linewidth=100000)\n",
    "from backfitting import Backfitting\n",
    "from base_environment import BaseEnvironment\n",
    "from collection_environment import CollectionEnvironment\n",
    "from regression_method import PolynomialRegression, RandomForestRegression\n",
    "from sklearn.linear_model import LinearRegression, Ridge\n",
    "from sklearn.ensemble import RandomForestRegressor\n",
    "from sklearn.preprocessing import PolynomialFeatures\n"
   ]
  },
  {
   "cell_type": "code",
   "execution_count": 34,
   "metadata": {},
   "outputs": [],
   "source": [
    "ik_h, se_h = [], (lambda input_samples:input_samples)\n",
    "ik_x1, se_x1 = ['h'], (lambda input_samples: 2*input_samples[0] + input_samples[1])\n",
    "ik_x2, se_x2 = ['h', 'x1'], (lambda input_samples: input_samples[0] + input_samples[1] + input_samples[2])\n",
    "ik_x3, se_x3 = ['x1', 'x2'], (lambda input_samples: -input_samples[0] * 2*input_samples[1] + input_samples[2])\n",
    "ik_x4, se_x4 = ['x1', 'x3'], (lambda input_samples: np.log(1+np.abs(input_samples[0])) + input_samples[1] + input_samples[2])\n",
    "ik_y, se_y = ['h','x1','x2','x3','x4'], (lambda input_samples:\n",
    "                                         input_samples[0] \n",
    "                                         + input_samples[1]**2\n",
    "                                         #+ 0.5*input_samples[1]*input_samples[2]\n",
    "                                         + 0.5*input_samples[1]*input_samples[2]*input_samples[3]\n",
    "                                         - 0.5*input_samples[3]*input_samples[4]\n",
    "                                         - input_samples[2]*input_samples[4] + input_samples[5])\n",
    "ik_x5, se_x5 = ['x2', 'x4', 'y'], (lambda input_samples: 2*input_samples[0] + input_samples[1] - input_samples[2] + input_samples[3])"
   ]
  },
  {
   "cell_type": "code",
   "execution_count": 44,
   "metadata": {},
   "outputs": [],
   "source": [
    "fh = {'input_keys':ik_h, 'structural_eq': se_h}\n",
    "f1 = {'input_keys':ik_x1, 'structural_eq': se_x1}\n",
    "f2 = {'input_keys':ik_x2, 'structural_eq': se_x2}\n",
    "f3 = {'input_keys':ik_x3, 'structural_eq': se_x3}\n",
    "f4 = {'input_keys':ik_x4, 'structural_eq': se_x4}\n",
    "f5 = {'input_keys':ik_x5, 'structural_eq': se_x5}\n",
    "fy = {'input_keys':ik_y, 'structural_eq': se_y}\n",
    "\n",
    "sh = lambda n_samples: np.random.normal(size=n_samples)\n",
    "s1 = lambda n_samples: np.random.normal(size=n_samples)\n",
    "s2 = lambda n_samples: np.random.normal(size=n_samples)\n",
    "s3 = lambda n_samples: np.random.normal(size=n_samples)\n",
    "s4 = lambda n_samples: np.random.normal(size=n_samples)\n",
    "s5 = lambda n_samples: np.random.normal(size=n_samples)\n",
    "sy = lambda n_samples: np.random.normal(size=n_samples)\n",
    "\n",
    "topo_order = ['h','x1','x2','x3','x4','y','x5']\n",
    "y_key = 'y'\n",
    "x_key = ['x1','x2','x3','x4','x5']\n",
    "\n",
    "structural_equation_dict = {'x1':f1, 'x2':f2, 'x3':f3, 'y':fy, 'x4':f4, 'x5':f5, 'h':fh}\n",
    "disturbance_sampler_dict = {'x1':s1, 'x2':s2, 'x3':s3, 'y':sy, 'x4':s4, 'x5':s5, 'h':sh}\n",
    "\n",
    "base = BaseEnvironment(structural_equation_dict, disturbance_sampler_dict, topo_order, y_key, x_key)\n",
    "coll_env = CollectionEnvironment(base)"
   ]
  },
  {
   "cell_type": "code",
   "execution_count": 45,
   "metadata": {},
   "outputs": [],
   "source": [
    "coll_env.add_env('e1', {'x1':{'type':'independent'},'x2':{'type':'independent'}, 'x3':{'type':'independent'}}, 500)\n",
    "coll_env.add_env('e2', {'x2':{'type':'independent'},'x4':{'type':'independent'}}, 500)\n",
    "coll_env.add_env('e3', {'x4':{'type':'independent'},'x3':{'type':'independent'}}, 500)\n",
    "coll_env.add_env('e4', {'x1':{'type':'independent'},'x5':{'type':'independent'}}, 500)\n"
   ]
  },
  {
   "cell_type": "code",
   "execution_count": 46,
   "metadata": {},
   "outputs": [
    {
     "data": {
      "text/plain": [
       "<matplotlib.collections.PathCollection at 0x7f5b04e245d0>"
      ]
     },
     "execution_count": 46,
     "metadata": {},
     "output_type": "execute_result"
    },
    {
     "data": {
      "text/plain": [
       "<matplotlib.collections.PathCollection at 0x7f5b04f11710>"
      ]
     },
     "execution_count": 46,
     "metadata": {},
     "output_type": "execute_result"
    },
    {
     "data": {
      "text/plain": [
       "<matplotlib.collections.PathCollection at 0x7f5b04d9b550>"
      ]
     },
     "execution_count": 46,
     "metadata": {},
     "output_type": "execute_result"
    },
    {
     "data": {
      "text/plain": [
       "<matplotlib.collections.PathCollection at 0x7f5b04d9bb50>"
      ]
     },
     "execution_count": 46,
     "metadata": {},
     "output_type": "execute_result"
    },
    {
     "data": {
      "image/png": "[encoded data removed]",
      "text/plain": [
       "<Figure size 432x288 with 1 Axes>"
      ]
     },
     "metadata": {
      "needs_background": "light"
     },
     "output_type": "display_data"
    }
   ],
   "source": [
    "for key in coll_env.env.keys():\n",
    "    plt.scatter(coll_env.env[key].data['X'][0,:],coll_env.env[key].data['Y'][:])"
   ]
  },
  {
   "cell_type": "code",
   "execution_count": 47,
   "metadata": {
    "scrolled": true
   },
   "outputs": [
    {
     "name": "stderr",
     "output_type": "stream",
     "text": [
      "100%|██████████| 10/10 [00:01<00:00,  6.30it/s]"
     ]
    },
    {
     "name": "stdout",
     "output_type": "stream",
     "text": [
      "([4022.2217559128726, 3263.58580113035, 1984.0948083181613, 8988.974802511484, 5422.388624242785, 13700.2675860669, 5598.5509549429735, 5353.645234645011, 14065.177743777664, 881.8309333760434], [6.7113190604945245, 7.35281591885416, 6.122456800356646, 6.487483756832545, 13.562184298423047, 11.899452553391315, 8.545064221541692, 9.009040665602775, 6.905777622354377, 3.523135688723686])\n"
     ]
    },
    {
     "name": "stderr",
     "output_type": "stream",
     "text": [
      "\n"
     ]
    }
   ],
   "source": [
    "params_method = {'regression_method':'HuberRegressor',\n",
    "                 'power_features': {\n",
    "                     'e1':3,\n",
    "                     'e2':2,\n",
    "                     'e3':2,\n",
    "                     'e4':2,\n",
    "                     'e5':2,\n",
    "                                     },\n",
    "                 'selected_features':{\n",
    "                     #'e1':['1','x1^0', 'x2^0','x2^2',  'x3^0', 'x1^0x2^0', 'x1^0x3^0',  'x2^0x3^0', 'x3^2', 'x1^3',\n",
    "                     #      'x1^2x2^0', 'x1^2x3^0', 'x1^0x2^2', 'x1^0x3^2', 'x2^3', 'x2^2x3^0', 'x2^0x3^2', 'x3^3'],\n",
    "                     'e1':['1','x1^0', 'x2^0','x2^2',  'x3^0', 'x1^2', 'x1^0x2^0', 'x1^0x3^0',  'x2^0x3^0', 'x3^2', 'x1^3',\n",
    "                           'x1^2x2^0', 'x1^2x3^0', 'x1^0x2^2', 'x1^0x2^0x3^0', 'x1^0x3^2', 'x2^3', 'x2^2x3^0', 'x2^0x3^2', 'x3^3'],\n",
    "                     'e2':['x2^0x4^0'],\n",
    "                     'e3':['x3^0x4^0'],\n",
    "                     'e4':['x1^0x5^0'],\n",
    "                 },\n",
    "                 'n_estimators':60\n",
    "                }\n",
    "\n",
    "backfit = Backfitting(PolynomialRegression, \n",
    "                      'backfitting',\n",
    "                      max_n_iter=10,\n",
    "                      gap_convergence=1e-5,\n",
    "                      warm_start=False, \n",
    "                      params_method=params_method,\n",
    "                     true_y_coeff={'x1^2':1, 'x1^0x2^0x3^0':0.5, 'x3^0x4^0':-0.5, 'x2^0x4^0':-1})\n",
    "                      \n",
    "res = backfit.fit(coll_env)\n",
    "print(res)"
   ]
  },
  {
   "cell_type": "code",
   "execution_count": 39,
   "metadata": {},
   "outputs": [
    {
     "data": {
      "text/plain": [
       "array([[-0.685, -0.914, 0.470, -1.200, -1.448, 1.269, -0.633, 1.493, -0.472, -0.913],\n",
       "       [-1.497, 0.169, -0.455, -1.422, -0.920, -0.121, 0.706, -0.532, -0.040, 0.824],\n",
       "       [0.613, 0.489, -0.726, 0.825, -1.349, 0.589, 0.118, 0.803, -0.351, -1.038],\n",
       "       [-0.033, 1.378, 1.973, 0.688, -0.980, 1.147, -0.208, 0.495, 0.576, -0.687],\n",
       "       [-1.411, 0.084, 0.526, -0.986, 0.368, 0.809, -0.676, -0.178, -1.026, -1.456],\n",
       "       [-0.863, 0.310, -2.246, -0.306, 1.642, 0.196, -1.646, 0.033, -0.927, -0.313]])"
      ]
     },
     "execution_count": 39,
     "metadata": {},
     "output_type": "execute_result"
    }
   ],
   "source": [
    "samples = np.random.normal(size=(6,10))\n",
    "samples"
   ]
  },
  {
   "cell_type": "code",
   "execution_count": 40,
   "metadata": {
    "scrolled": true
   },
   "outputs": [
    {
     "data": {
      "text/plain": [
       "array([1.046, 0.735, 2.764, -0.209, 0.084, 1.710, 2.257, 1.197, 0.675, -1.653])"
      ]
     },
     "execution_count": 40,
     "metadata": {},
     "output_type": "execute_result"
    },
    {
     "data": {
      "text/plain": [
       "array([1.090, 0.687, 2.755, -0.153, 0.074, 1.708, 2.085, 1.097, 0.706, -1.652])"
      ]
     },
     "execution_count": 40,
     "metadata": {},
     "output_type": "execute_result"
    }
   ],
   "source": [
    "backfit.true_function_y(backfit.x_train_full[:,:10])\n",
    "backfit.output_function_merged(backfit.x_train_full[:,:10])"
   ]
  },
  {
   "cell_type": "code",
   "execution_count": 41,
   "metadata": {
    "scrolled": true
   },
   "outputs": [
    {
     "data": {
      "text/plain": [
       "array([0.743, 0.227, 1.913, 2.838, -0.364, 1.365, 0.534, 1.974, 0.344, 1.433])"
      ]
     },
     "execution_count": 41,
     "metadata": {},
     "output_type": "execute_result"
    },
    {
     "data": {
      "text/plain": [
       "array([0.655, 0.262, 1.904, 2.797, -0.413, 1.307, 0.545, 1.871, 0.328, 1.422])"
      ]
     },
     "execution_count": 41,
     "metadata": {},
     "output_type": "execute_result"
    }
   ],
   "source": [
    "backfit.true_function_y(samples)\n",
    "backfit.output_function_merged(samples)"
   ]
  },
  {
   "cell_type": "code",
   "execution_count": 42,
   "metadata": {},
   "outputs": [
    {
     "data": {
      "text/plain": [
       "0.00275652680482604"
      ]
     },
     "execution_count": 42,
     "metadata": {},
     "output_type": "execute_result"
    },
    {
     "data": {
      "text/plain": [
       "25.330720085984026"
      ]
     },
     "execution_count": 42,
     "metadata": {},
     "output_type": "execute_result"
    }
   ],
   "source": [
    "backfit.evaluate_gap(samples)\n",
    "backfit.evaluate_gap()"
   ]
  },
  {
   "cell_type": "code",
   "execution_count": 11,
   "metadata": {
    "scrolled": true
   },
   "outputs": [
    {
     "data": {
      "image/png": "[encoded data removed]",
      "text/plain": [
       "<Figure size 432x288 with 1 Axes>"
      ]
     },
     "metadata": {
      "needs_background": "light"
     },
     "output_type": "display_data"
    }
   ],
   "source": [
    " _ = plt.plot(backfit.output_model_variation['e2'])"
   ]
  },
  {
   "cell_type": "code",
   "execution_count": 49,
   "metadata": {},
   "outputs": [
    {
     "name": "stdout",
     "output_type": "stream",
     "text": [
      "[-0.424]\n",
      "['x3^0x4^0']\n",
      "[-0.075 0.095 -0.239 0.062 -0.251 1.086 0.684 0.384 0.249 -0.316 -0.234 0.166 -0.078 -0.102 0.668 0.088 0.078 0.016 -0.024 0.018]\n",
      "['1', 'x1^0', 'x2^0', 'x2^2', 'x3^0', 'x1^2', 'x1^0x2^0', 'x1^0x3^0', 'x2^0x3^0', 'x3^2', 'x1^3', 'x1^2x2^0', 'x1^2x3^0', 'x1^0x2^2', 'x1^0x2^0x3^0', 'x1^0x3^2', 'x2^3', 'x2^2x3^0', 'x2^0x3^2', 'x3^3']\n",
      "[0.026]\n",
      "['x1^0x5^0']\n",
      "[-1.009]\n",
      "['x2^0x4^0']\n"
     ]
    }
   ],
   "source": [
    "for values in backfit.output_model_dict.values():\n",
    "    print(values.coef_())\n",
    "    print(values.get_feature_names())"
   ]
  },
  {
   "cell_type": "code",
   "execution_count": 48,
   "metadata": {},
   "outputs": [
    {
     "data": {
      "text/plain": [
       "3.523135688723686"
      ]
     },
     "execution_count": 48,
     "metadata": {},
     "output_type": "execute_result"
    }
   ],
   "source": [
    "backfit.evaluate_l1_loss_parameter()"
   ]
  },
  {
   "cell_type": "code",
   "execution_count": null,
   "metadata": {},
   "outputs": [],
   "source": []
  }
 ],
 "metadata": {
  "kernelspec": {
   "display_name": "Python 3",
   "language": "python",
   "name": "python3"
  },
  "language_info": {
   "codemirror_mode": {
    "name": "ipython",
    "version": 3
   },
   "file_extension": ".py",
   "mimetype": "text/x-python",
   "name": "python",
   "nbconvert_exporter": "python",
   "pygments_lexer": "ipython3",
   "version": "3.7.6"
  }
 },
 "nbformat": 4,
 "nbformat_minor": 2
}

{
 "cells": [
  {
   "cell_type": "code",
   "execution_count": 1,
   "metadata": {},
   "outputs": [
    {
     "name": "stderr",
     "output_type": "stream",
     "text": [
      "/home/roquero/miniconda3/lib/python3.7/site-packages/matplotlib/__init__.py:886: MatplotlibDeprecationWarning: \n",
      "examples.directory is deprecated; in the future, examples will be found relative to the 'datapath' directory.\n",
      "  \"found relative to the 'datapath' directory.\".format(key))\n"
     ]
    }
   ],
   "source": [
    "import numpy as np\n",
    "import scipy as sp\n",
    "import pandas as pd\n",
    "from sklearn.linear_model import LinearRegression\n",
    "import seaborn as sns\n",
    "import matplotlib.pyplot as plt\n",
    "from IPython.core.interactiveshell import InteractiveShell\n",
    "InteractiveShell.ast_node_interactivity = \"all\"\n",
    "%reload_ext autoreload\n",
    "%autoreload 2\n",
    "import itertools\n",
    "import sys\n",
    "sys.path.append('/home/roquero/CausalAggregation/Code')\n",
    "from generateEnvironment import GenerateEnvironment\n",
    "from solveProblem import SolveProblem\n",
    "import matplotlib as mpl\n",
    "plt.rcParams.update({\n",
    "    \"text.usetex\": True,\n",
    "    \"font.family\": \"sans-serif\",\n",
    "    \"font.sans-serif\": [\"Helvetica\"]})\n",
    "np.set_printoptions(suppress=True)\n",
    "np.set_printoptions(precision=4)"
   ]
  },
  {
   "cell_type": "code",
   "execution_count": 2,
   "metadata": {},
   "outputs": [
    {
     "name": "stdout",
     "output_type": "stream",
     "text": [
      "x_dim: 7\n"
     ]
    }
   ],
   "source": [
    "n_dim=9\n",
    "connectivity_e0 = np.array([\n",
    "    [0]*9,\n",
    "    [2,0,0,0,2,1,0,0,0],\n",
    "    [0,0,0,0,0,-1,0,0,0],\n",
    "    [-1,0,0,0,0,2,-1,0,0],\n",
    "    [0,0,0,0,0,0,0,1,0],\n",
    "    [0]*9,\n",
    "    [0,0,0,0,0,0,0,3,0],\n",
    "    [0]*9,\n",
    "    [3,2,1,-1,0,0,0,0,0],\n",
    "]\n",
    ")\n",
    "y_index=8\n",
    "x_indices=np.arange(1,y_index)\n",
    "print('x_dim: {}'.format(len(x_indices)))\n",
    "n_samples=100000"
   ]
  },
  {
   "cell_type": "code",
   "execution_count": 3,
   "metadata": {
    "scrolled": false
   },
   "outputs": [
    {
     "name": "stdout",
     "output_type": "stream",
     "text": [
      "\n",
      "Simulation for sample size = 100\n",
      "True beta: \n",
      "[ 2  1 -1  0  0  0  0]\n",
      "Least squares estimate of beta: \n",
      "[ 3.1246  0.8675 -1.3908 -2.2716 -0.3388 -0.3811 -0.2122]\n",
      "Lasso CV estimate of beta: \n",
      "[ 2.0963  0.9511 -2.2289  0.4411  2.1925 -1.4421  0.2773]\n",
      "Estimator with lmbda set to 0.2: \n",
      "[ 2.1945  0.5978 -0.8936  0.2569  0.      0.1242  0.2977]\n",
      "Estimator with lmbda chosen by CV (selected value is 0.1585): \n",
      "[ 1.9758  0.3378 -1.0316  0.0537 -0.     -0.0778 -0.    ]\n",
      "\n",
      "Simulation for sample size = 500\n",
      "True beta: \n",
      "[ 2  1 -1  0  0  0  0]\n",
      "Least squares estimate of beta: \n",
      "[ 2.9981  0.9379 -1.4927 -1.951   0.012  -0.3164 -0.6845]\n",
      "Lasso CV estimate of beta: \n",
      "[ 1.9207  0.8973 -2.4056  0.079   2.8836 -1.306  -0.2705]\n",
      "Estimator with lmbda set to 0.2: \n",
      "[ 1.9548  0.9378 -1.0542 -0.0354 -0.     -0.2096  0.    ]\n",
      "Estimator with lmbda chosen by CV (selected value is 0.2512): \n",
      "[ 1.8892  1.2124 -0.9115 -0.     -0.     -0.     -0.    ]\n",
      "\n",
      "Simulation for sample size = 1000\n",
      "True beta: \n",
      "[ 2  1 -1  0  0  0  0]\n",
      "Least squares estimate of beta: \n",
      "[ 2.961   1.0245 -1.4898 -1.863   0.0263 -0.4128 -0.3126]\n",
      "Lasso CV estimate of beta: \n",
      "[ 2.0087  0.8599 -2.5006 -0.      2.7957 -1.5091  0.    ]\n",
      "Estimator with lmbda set to 0.2: \n",
      "[ 1.8114  0.5806 -1.1582  0.     -0.      0.0306  0.    ]\n",
      "Estimator with lmbda chosen by CV (selected value is 0.1000): \n",
      "[ 1.9085  0.7536 -1.1081  0.     -0.      0.044   0.    ]\n",
      "\n",
      "Simulation for sample size = 10000\n",
      "True beta: \n",
      "[ 2  1 -1  0  0  0  0]\n",
      "Least squares estimate of beta: \n",
      "[ 3.0011  1.0092 -1.5233 -2.0096  0.0396 -0.5351  0.055 ]\n",
      "Lasso CV estimate of beta: \n",
      "[ 1.9459  0.9621 -2.4571 -0.      2.8813 -1.4566 -0.    ]\n",
      "Estimator with lmbda set to 0.2: \n",
      "[ 1.9316  0.8199 -1.044   0.      0.     -0.     -0.    ]\n",
      "Estimator with lmbda chosen by CV (selected value is 0.1000): \n",
      "[ 1.9981  0.9605 -1.0023  0.     -0.     -0.     -0.    ]\n",
      "\n",
      "Simulation for sample size = 100000\n",
      "True beta: \n",
      "[ 2  1 -1  0  0  0  0]\n",
      "Least squares estimate of beta: \n",
      "[ 3.0009  1.0025 -1.502  -2.0018  0.0093 -0.5072  0.0254]\n",
      "Lasso CV estimate of beta: \n",
      "[ 1.978   0.956  -2.4566  0.      2.8476 -1.4557 -0.    ]\n",
      "Estimator with lmbda set to 0.2: \n",
      "[ 1.8947  0.7224 -1.0757 -0.     -0.     -0.     -0.    ]\n",
      "Estimator with lmbda chosen by CV (selected value is 0.0158): \n",
      "[ 2.0019  0.9436 -1.0087  0.     -0.     -0.0148 -0.    ]\n",
      "\n",
      "Simulation for sample size = 500000\n",
      "True beta: \n",
      "[ 2  1 -1  0  0  0  0]\n",
      "Least squares estimate of beta: \n",
      "[ 3.0004  0.9998 -1.5006 -2.0009  0.0021 -0.5015  0.0025]\n",
      "Lasso CV estimate of beta: \n",
      "[ 1.9759  0.9547 -2.4588  0.      2.846  -1.4558 -0.    ]\n",
      "Estimator with lmbda set to 0.2: \n",
      "[ 1.8845  0.7666 -1.086   0.     -0.     -0.     -0.    ]\n",
      "Estimator with lmbda chosen by CV (selected value is 0.0025): \n",
      "[ 1.9996  1.0074 -1.0023  0.     -0.     -0.008   0.    ]\n",
      "\n",
      "Simulation for sample size = 1000000\n",
      "True beta: \n",
      "[ 2  1 -1  0  0  0  0]\n",
      "Least squares estimate of beta: \n",
      "[ 2.9986  1.0016 -1.5018 -1.9942  0.0076 -0.5024 -0.0023]\n",
      "Lasso CV estimate of beta: \n",
      "[ 1.9789  0.9584 -2.4591 -0.      2.8552 -1.456  -0.    ]\n",
      "Estimator with lmbda set to 0.2: \n",
      "[ 1.8833  0.7455 -1.0928  0.     -0.     -0.     -0.    ]\n",
      "Estimator with lmbda chosen by CV (selected value is 0.0100): \n",
      "[ 1.9967  0.9878 -1.005   0.     -0.     -0.      0.    ]\n"
     ]
    }
   ],
   "source": [
    "for n_samples in np.array([100,500,1000,10000,100000,500000,1000000]):\n",
    "    print('\\nSimulation for sample size = {}'.format(n_samples))\n",
    "    list_dict_interventions = [{i:{'type':'independent'} for i in np.array([1])},\n",
    "                               {i:{'type':'independent'} for i in np.array([3])}]\n",
    "    solver = SolveProblem(connectivity_e0,x_indices,y_index)\n",
    "    list_environments = [solver.generate_intervention(n_samples, dict_interventions)\n",
    "                         for dict_interventions in list_dict_interventions]\n",
    "    \n",
    "    print('True beta: \\n{}'.format(solver.beta))\n",
    "    print('Least squares estimate of beta: \\n{}'.format(solver.estimator_LR(solver.generate_intervention(n_samples, {}))))\n",
    "    print('Lasso CV estimate of beta: \\n{}'.format(solver.estimator_Lasso(solver.generate_intervention(n_samples, list_dict_interventions[0]))))\n",
    "    \n",
    "    lmbda = 0.2\n",
    "    problem = solver.solve_problem(lmbda, list_environments, solver.generate_intervention(n_samples,{}))\n",
    "    print('Estimator with lmbda set to {}: \\n{}'.format(lmbda, (problem.variables()[0].value)))\n",
    "    \n",
    "    problem_2 = solver.solve_problem_CV(list_environments, solver.generate_intervention(n_samples,{}))\n",
    "    print('Estimator with lmbda chosen by CV (selected value is {:.4f}): \\n{}'.format(solver.selected_lmbda,\n",
    "                                                                              (problem_2.variables()[0].value)))"
   ]
  },
  {
   "cell_type": "code",
   "execution_count": null,
   "metadata": {},
   "outputs": [],
   "source": []
  },
  {
   "cell_type": "code",
   "execution_count": null,
   "metadata": {},
   "outputs": [],
   "source": []
  },
  {
   "cell_type": "code",
   "execution_count": null,
   "metadata": {},
   "outputs": [],
   "source": []
  },
  {
   "cell_type": "code",
   "execution_count": null,
   "metadata": {},
   "outputs": [],
   "source": []
  },
  {
   "cell_type": "code",
   "execution_count": null,
   "metadata": {},
   "outputs": [],
   "source": []
  },
  {
   "cell_type": "code",
   "execution_count": null,
   "metadata": {},
   "outputs": [],
   "source": []
  },
  {
   "cell_type": "code",
   "execution_count": null,
   "metadata": {},
   "outputs": [],
   "source": []
  },
  {
   "cell_type": "code",
   "execution_count": null,
   "metadata": {},
   "outputs": [],
   "source": [
    "for n_samples in np.array([100,500,1000,10000,100000,500000,1000000]):\n",
    "    print('\\nSimulation for sample size = {}'.format(n_samples))\n",
    "    list_dict_interventions = [{i:{'type':'independent'} for i in np.array([1,4])}]\n",
    "    solver = SolveProblem(connectivity_e0,x_indices,y_index)\n",
    "    list_environments = [solver.generate_intervention(n_samples, dict_interventions)\n",
    "                         for dict_interventions in list_dict_interventions]\n",
    "    \n",
    "    print('True beta: \\n{}'.format(solver.beta))\n",
    "    print('Least squares estimate of beta: \\n{}'.format(solver.estimator_LR(solver.generate_intervention(n_samples, {}))))\n",
    "    print('Lasso CV estimate of beta: \\n{}'.format(solver.estimator_Lasso(solver.generate_intervention(n_samples, list_dict_interventions[0]))))\n",
    "    \n",
    "    lmbda = 0.2\n",
    "    problem = solver.solve_problem(lmbda, list_environments, solver.generate_intervention(n_samples,{}))\n",
    "    print('Estimator with lmbda set to {}: \\n{}'.format(lmbda, (problem.variables()[0].value)))\n",
    "    \n",
    "    problem_2 = solver.solve_problem_CV(list_environments, solver.generate_intervention(n_samples,{}))\n",
    "    print('Estimator with lmbda chosen by CV (selected value is {:.4f}): \\n{}'.format(solver.selected_lmbda,\n",
    "                                                                              (problem_2.variables()[0].value)))"
   ]
  },
  {
   "cell_type": "code",
   "execution_count": null,
   "metadata": {},
   "outputs": [],
   "source": [
    "\n",
    "\n",
    "\n",
    "\n",
    "\n",
    "\n",
    "\n",
    "\n",
    "\n"
   ]
  },
  {
   "cell_type": "code",
   "execution_count": null,
   "metadata": {},
   "outputs": [],
   "source": []
  },
  {
   "cell_type": "code",
   "execution_count": null,
   "metadata": {},
   "outputs": [],
   "source": [
    "\n"
   ]
  }
 ],
 "metadata": {
  "kernelspec": {
   "display_name": "Python 3",
   "language": "python",
   "name": "python3"
  },
  "language_info": {
   "codemirror_mode": {
    "name": "ipython",
    "version": 3
   },
   "file_extension": ".py",
   "mimetype": "text/x-python",
   "name": "python",
   "nbconvert_exporter": "python",
   "pygments_lexer": "ipython3",
   "version": "3.7.6"
  }
 },
 "nbformat": 4,
 "nbformat_minor": 2
}

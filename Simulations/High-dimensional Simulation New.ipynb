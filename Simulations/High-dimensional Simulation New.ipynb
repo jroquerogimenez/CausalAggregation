{
 "cells": [
  {
   "cell_type": "code",
   "execution_count": 2,
   "metadata": {},
   "outputs": [],
   "source": [
    "import numpy as np\n",
    "import scipy as sp\n",
    "import pandas as pd\n",
    "from sklearn.linear_model import LinearRegression, LassoCV\n",
    "import seaborn as sns\n",
    "import matplotlib.pyplot as plt\n",
    "from IPython.core.interactiveshell import InteractiveShell\n",
    "InteractiveShell.ast_node_interactivity = \"all\"\n",
    "%reload_ext autoreload\n",
    "%autoreload 2\n",
    "import itertools\n",
    "import sys\n",
    "sys.path.append('/home/roquero/CausalAggregation/Code')\n",
    "from generateEnvironment import GenerateEnvironment, generate_constraints\n",
    "from gmm_estimator import SolveProblem\n",
    "import matplotlib as mpl\n",
    "plt.rcParams.update({\n",
    "    \"text.usetex\": True,\n",
    "    \"font.family\": \"sans-serif\",\n",
    "    \"font.sans-serif\": [\"Helvetica\"]})\n",
    "np.set_printoptions(suppress=True)\n",
    "np.set_printoptions(precision=5)"
   ]
  },
  {
   "cell_type": "code",
   "execution_count": 3,
   "metadata": {},
   "outputs": [],
   "source": [
    "n_dim=200\n",
    "connectivity_e0 = np.zeros((n_dim,n_dim))\n",
    "connectivity_e0[np.arange(1,n_dim), np.arange(0,n_dim-1)] = 1\n",
    "connectivity_e0[1:,0]=0\n",
    "y_index=30\n",
    "x_indices=np.hstack([np.arange(1,y_index),(np.arange(y_index+1,n_dim))])\n",
    "n_reps=100\n",
    "alpha=0.05"
   ]
  },
  {
   "cell_type": "code",
   "execution_count": 8,
   "metadata": {},
   "outputs": [
    {
     "ename": "NameError",
     "evalue": "name 'n_samples_tot' is not defined",
     "output_type": "error",
     "traceback": [
      "\u001b[0;31m----------------------------------------------------------------\u001b[0m",
      "\u001b[0;31mNameError\u001b[0m                      Traceback (most recent call last)",
      "\u001b[0;32m<ipython-input-8-8b4dd99edcc1>\u001b[0m in \u001b[0;36m<module>\u001b[0;34m\u001b[0m\n\u001b[1;32m     20\u001b[0m         \u001b[0maCov\u001b[0m \u001b[0;34m=\u001b[0m \u001b[0msolver\u001b[0m\u001b[0;34m.\u001b[0m\u001b[0mcompute_aCov\u001b[0m\u001b[0;34m(\u001b[0m\u001b[0mlist_environments\u001b[0m\u001b[0;34m)\u001b[0m\u001b[0;34m\u001b[0m\u001b[0;34m\u001b[0m\u001b[0m\n\u001b[1;32m     21\u001b[0m \u001b[0;34m\u001b[0m\u001b[0m\n\u001b[0;32m---> 22\u001b[0;31m         \u001b[0mCI\u001b[0m \u001b[0;34m=\u001b[0m \u001b[0msolver\u001b[0m\u001b[0;34m.\u001b[0m\u001b[0mcompute_CI\u001b[0m\u001b[0;34m(\u001b[0m\u001b[0mbeta_hat\u001b[0m\u001b[0;34m,\u001b[0m \u001b[0maCov\u001b[0m\u001b[0;34m,\u001b[0m \u001b[0mn_samples_tot\u001b[0m\u001b[0;34m,\u001b[0m \u001b[0malpha\u001b[0m\u001b[0;34m)\u001b[0m\u001b[0;34m\u001b[0m\u001b[0;34m\u001b[0m\u001b[0m\n\u001b[0m\u001b[1;32m     23\u001b[0m \u001b[0;34m\u001b[0m\u001b[0m\n\u001b[1;32m     24\u001b[0m         \u001b[0;32mfor\u001b[0m \u001b[0mcoord\u001b[0m \u001b[0;32min\u001b[0m \u001b[0mnp\u001b[0m\u001b[0;34m.\u001b[0m\u001b[0marange\u001b[0m\u001b[0;34m(\u001b[0m\u001b[0;36m5\u001b[0m\u001b[0;34m)\u001b[0m\u001b[0;34m:\u001b[0m\u001b[0;34m\u001b[0m\u001b[0;34m\u001b[0m\u001b[0m\n",
      "\u001b[0;31mNameError\u001b[0m: name 'n_samples_tot' is not defined"
     ]
    }
   ],
   "source": [
    "for n_samples in np.array([50,100,200,500,1000,5000,10000]):\n",
    "    coverage=[]\n",
    "    length=[]\n",
    "    for _ in np.arange(n_reps):\n",
    "        \n",
    "        solver_obs = SolveProblem(connectivity_e0,x_indices,y_index)\n",
    "        obs_dataset = solver_obs.generate_intervention(n_samples, {})['dataset']\n",
    "    \n",
    "        select_markov = LassoCV(max_iter=5000)\n",
    "        _ = select_markov.fit(obs_dataset[x_indices,:].T,obs_dataset[y_index,:])\n",
    "        selected_indices = x_indices[np.where(np.abs(select_markov.coef_)>1e-3)[0]]\n",
    "        \n",
    "        solver = SolveProblem(connectivity_e0,selected_indices,y_index)\n",
    "        \n",
    "        list_dict_interventions = [{i:{'type':'independent'} for i in selected_indices}]       \n",
    "        list_environments = [solver.generate_intervention(n_samples, dict_interventions)\n",
    "                             for dict_interventions in list_dict_interventions]\n",
    "        \n",
    "        beta_hat = solver.compute_beta(list_environments)\n",
    "        aCov = solver.compute_aCov(list_environments)\n",
    "        \n",
    "        CI = solver.compute_CI(beta_hat, aCov, n_samples_tot, alpha)\n",
    "        \n",
    "        for coord in np.arange(5):\n",
    "            coverage.append((CI[0,coord]<solver.beta[coord])&\n",
    "                        (CI[1,coord]>solver.beta[coord]))\n",
    "            length.append(CI[1,coord]-CI[0,coord])\n",
    "            \n",
    "    print('For n_samples {}: Avg coverage: {} pm{}. Avg length: {} pm{}.'.format(n_samples,np.mean(coverage),2*np.std(coverage)/np.sqrt(n_reps),np.mean(length),2*np.std(length)/np.sqrt(n_reps))\n",
    "         )"
   ]
  },
  {
   "cell_type": "code",
   "execution_count": null,
   "metadata": {},
   "outputs": [],
   "source": []
  },
  {
   "cell_type": "code",
   "execution_count": null,
   "metadata": {},
   "outputs": [],
   "source": [
    "solver.beta"
   ]
  },
  {
   "cell_type": "code",
   "execution_count": null,
   "metadata": {},
   "outputs": [],
   "source": []
  }
 ],
 "metadata": {
  "kernelspec": {
   "display_name": "Python 3",
   "language": "python",
   "name": "python3"
  },
  "language_info": {
   "codemirror_mode": {
    "name": "ipython",
    "version": 3
   },
   "file_extension": ".py",
   "mimetype": "text/x-python",
   "name": "python",
   "nbconvert_exporter": "python",
   "pygments_lexer": "ipython3",
   "version": "3.7.6"
  }
 },
 "nbformat": 4,
 "nbformat_minor": 2
}

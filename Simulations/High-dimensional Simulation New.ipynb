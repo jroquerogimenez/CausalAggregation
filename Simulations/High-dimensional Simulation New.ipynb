{
 "cells": [
  {
   "cell_type": "code",
   "execution_count": 13,
   "metadata": {},
   "outputs": [],
   "source": [
    "import numpy as np\n",
    "import scipy as sp\n",
    "import pandas as pd\n",
    "from sklearn.linear_model import LinearRegression, LassoCV\n",
    "import seaborn as sns\n",
    "import matplotlib.pyplot as plt\n",
    "from IPython.core.interactiveshell import InteractiveShell\n",
    "InteractiveShell.ast_node_interactivity = \"all\"\n",
    "%reload_ext autoreload\n",
    "%autoreload 2\n",
    "import itertools\n",
    "import sys\n",
    "sys.path.append('/home/roquero/CausalAggregation/Code')\n",
    "from generateEnvironment import GenerateEnvironment, generate_constraints\n",
    "from solveProblem import SolveProblem\n",
    "import matplotlib as mpl\n",
    "plt.rcParams.update({\n",
    "    \"text.usetex\": True,\n",
    "    \"font.family\": \"sans-serif\",\n",
    "    \"font.sans-serif\": [\"Helvetica\"]})\n",
    "np.set_printoptions(suppress=True)\n",
    "np.set_printoptions(precision=5)"
   ]
  },
  {
   "cell_type": "code",
   "execution_count": 14,
   "metadata": {},
   "outputs": [],
   "source": [
    "n_dim=200\n",
    "connectivity_e0 = np.zeros((n_dim,n_dim))\n",
    "connectivity_e0[np.arange(1,n_dim), np.arange(0,n_dim-1)] = 1\n",
    "connectivity_e0[1:,0]=0\n",
    "y_index=30\n",
    "x_indices=np.hstack([np.arange(1,y_index),(np.arange(y_index+1,n_dim))])\n",
    "n_reps=100\n",
    "alpha=0.05"
   ]
  },
  {
   "cell_type": "code",
   "execution_count": 15,
   "metadata": {},
   "outputs": [
    {
     "name": "stdout",
     "output_type": "stream",
     "text": [
      "For n_samples 50: Avg coverage: 0.9465478841870824 pm0.04498665896820524. Avg length: 0.8499530319271315 pm0.1281239755755479.\n",
      "For n_samples 100: Avg coverage: 0.9536199095022625 pm0.042061373112707225. Avg length: 0.4407902312798183 pm0.014327271583099715.\n",
      "For n_samples 200: Avg coverage: 0.9482535575679172 pm0.04430293359483362. Avg length: 0.28724242740571504 pm0.00486616932683788.\n",
      "For n_samples 500: Avg coverage: 0.9462647444298821 pm0.045098903702388185. Avg length: 0.1779294900702023 pm0.0016741534409614703.\n",
      "For n_samples 1000: Avg coverage: 0.9466292134831461 pm0.04495435269845462. Avg length: 0.12550553915574805 pm0.0008563339882374423.\n",
      "For n_samples 5000: Avg coverage: 0.9429097605893186 pm0.046402992996018036. Avg length: 0.05550808437213356 pm0.00016762684688797943.\n",
      "For n_samples 10000: Avg coverage: 0.9791183294663574 pm0.028597640720428037. Avg length: 0.039221895709213986 pm7.863891542752217e-05.\n"
     ]
    }
   ],
   "source": [
    "for n_samples in np.array([50,100,200,500,1000,5000,10000]):\n",
    "    coverage=[]\n",
    "    length=[]\n",
    "    for _ in np.arange(n_reps):\n",
    "        \n",
    "        solver_obs = SolveProblem(connectivity_e0,x_indices,y_index)\n",
    "        obs_dataset = solver_obs.generate_intervention(n_samples, {})['dataset']\n",
    "    \n",
    "        select_markov = LassoCV(max_iter=5000)\n",
    "        _ = select_markov.fit(obs_dataset[x_indices,:].T,obs_dataset[y_index,:])\n",
    "        selected_indices = x_indices[np.where(np.abs(select_markov.coef_)>1e-3)[0]]\n",
    "        \n",
    "        solver = SolveProblem(connectivity_e0,selected_indices,y_index)\n",
    "        \n",
    "        list_dict_interventions = [{i:{'type':'independent'} for i in selected_indices}]       \n",
    "        list_environments = [solver.generate_intervention(n_samples, dict_interventions)\n",
    "                             for dict_interventions in list_dict_interventions]\n",
    "        \n",
    "        _, CI = solver.compute_asymptotic_cov(list_environments, alpha)\n",
    "\n",
    "        for coord in np.arange(len(selected_indices)):\n",
    "            coverage.append((CI[0,coord]<solver.beta[coord])&\n",
    "                        (CI[1,coord]>solver.beta[coord]))\n",
    "            length.append(CI[1,coord]-CI[0,coord])\n",
    "            \n",
    "    print('For n_samples {}: Avg coverage: {} pm{}. Avg length: {} pm{}.'.format(n_samples,np.mean(coverage),2*np.std(coverage)/np.sqrt(n_reps),np.mean(length),2*np.std(length)/np.sqrt(n_reps))\n",
    "         )"
   ]
  },
  {
   "cell_type": "code",
   "execution_count": null,
   "metadata": {},
   "outputs": [],
   "source": []
  },
  {
   "cell_type": "code",
   "execution_count": 16,
   "metadata": {},
   "outputs": [
    {
     "data": {
      "text/plain": [
       "array([0., 1., 0., 0.])"
      ]
     },
     "execution_count": 16,
     "metadata": {},
     "output_type": "execute_result"
    }
   ],
   "source": [
    "solver.beta"
   ]
  },
  {
   "cell_type": "code",
   "execution_count": null,
   "metadata": {},
   "outputs": [],
   "source": []
  }
 ],
 "metadata": {
  "kernelspec": {
   "display_name": "Python 3",
   "language": "python",
   "name": "python3"
  },
  "language_info": {
   "codemirror_mode": {
    "name": "ipython",
    "version": 3
   },
   "file_extension": ".py",
   "mimetype": "text/x-python",
   "name": "python",
   "nbconvert_exporter": "python",
   "pygments_lexer": "ipython3",
   "version": "3.7.6"
  }
 },
 "nbformat": 4,
 "nbformat_minor": 2
}

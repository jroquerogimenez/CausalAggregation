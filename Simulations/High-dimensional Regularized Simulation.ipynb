{
 "cells": [
  {
   "cell_type": "code",
   "execution_count": 2,
   "metadata": {},
   "outputs": [],
   "source": [
    "import numpy as np\n",
    "import scipy as sp\n",
    "import pandas as pd\n",
    "from sklearn.linear_model import LinearRegression\n",
    "import seaborn as sns\n",
    "import matplotlib.pyplot as plt\n",
    "from IPython.core.interactiveshell import InteractiveShell\n",
    "InteractiveShell.ast_node_interactivity = \"all\"\n",
    "%reload_ext autoreload\n",
    "%autoreload 2\n",
    "import itertools\n",
    "import sys\n",
    "sys.path.append('/home/roquero/CausalAggregation/Code')\n",
    "from generateEnvironment import GenerateEnvironment\n",
    "from solveProblem import SolveProblem\n",
    "import matplotlib as mpl\n",
    "plt.rcParams.update({\n",
    "    \"text.usetex\": True,\n",
    "    \"font.family\": \"sans-serif\",\n",
    "    \"font.sans-serif\": [\"Helvetica\"]})\n",
    "np.set_printoptions(suppress=True)\n",
    "np.set_printoptions(precision=5)"
   ]
  },
  {
   "cell_type": "code",
   "execution_count": 188,
   "metadata": {},
   "outputs": [
    {
     "name": "stdout",
     "output_type": "stream",
     "text": [
      "x_dim: 18\n"
     ]
    }
   ],
   "source": [
    "n_dim=20\n",
    "connectivity_e0 = np.zeros((n_dim,n_dim))\n",
    "connectivity_e0[np.arange(1,n_dim), np.arange(0,n_dim-1)] = np.random.normal(size=n_dim-1)\n",
    "connectivity_e0[1:,0]=2\n",
    "y_index=12\n",
    "x_indices=np.hstack([np.arange(1,y_index),(np.arange(y_index+1,n_dim))])\n",
    "print('x_dim: {}'.format(len(x_indices)))\n",
    "n_samples=50000\n",
    "n_reps=100\n",
    "coord=1"
   ]
  },
  {
   "cell_type": "code",
   "execution_count": 196,
   "metadata": {},
   "outputs": [],
   "source": [
    "list_dict_interventions = [{i:{'type':'independent'} for i in np.array([11,13])}]\n",
    "\n",
    "solver = SolveProblem(connectivity_e0,x_indices,y_index)\n",
    "\n",
    "list_environments = [solver.generate_intervention(n_samples, dict_interventions)\n",
    "                     for dict_interventions in list_dict_interventions]\n",
    "\n",
    "\n",
    "problem = solver.solve_problem(0.05, list_environments, n_samples)\n"
   ]
  },
  {
   "cell_type": "code",
   "execution_count": 197,
   "metadata": {},
   "outputs": [
    {
     "data": {
      "text/plain": [
       "(18, 2)"
      ]
     },
     "execution_count": 197,
     "metadata": {},
     "output_type": "execute_result"
    },
    {
     "data": {
      "text/plain": [
       "(2,)"
      ]
     },
     "execution_count": 197,
     "metadata": {},
     "output_type": "execute_result"
    },
    {
     "data": {
      "text/plain": [
       "(18, 18)"
      ]
     },
     "execution_count": 197,
     "metadata": {},
     "output_type": "execute_result"
    }
   ],
   "source": [
    "m, z, p = solver.combine_constraints(list_environments)\n",
    "m.shape\n",
    "z.shape\n",
    "p.shape"
   ]
  },
  {
   "cell_type": "code",
   "execution_count": 198,
   "metadata": {},
   "outputs": [
    {
     "data": {
      "text/plain": [
       "array([ 0.08596,  0.05507,  0.05298,  0.06558,  0.03009,  0.     ,\n",
       "       -0.03813,  0.     ,  0.0697 , -0.     ,  0.     , -0.06218,\n",
       "       -0.     , -0.     ,  0.     ,  0.04765,  0.0668 ,  0.16158])"
      ]
     },
     "execution_count": 198,
     "metadata": {},
     "output_type": "execute_result"
    }
   ],
   "source": [
    "problem.variables()[0].value "
   ]
  },
  {
   "cell_type": "code",
   "execution_count": 192,
   "metadata": {},
   "outputs": [
    {
     "data": {
      "text/plain": [
       "array([0.     , 0.     , 0.     , 0.     , 0.     , 0.     , 0.     ,\n",
       "       0.     , 0.     , 0.     , 0.01394, 0.     , 0.     , 0.     ,\n",
       "       0.     , 0.     , 0.     , 0.     ])"
      ]
     },
     "execution_count": 192,
     "metadata": {},
     "output_type": "execute_result"
    },
    {
     "data": {
      "text/plain": [
       "array([ 0.06833,  0.11384,  0.04728,  0.07813,  0.06124,  0.17033,\n",
       "        0.03303, -0.01333,  0.26079,  0.02897,  0.09095, -0.34823,\n",
       "        0.11624, -0.05007, -0.06343,  0.07606,  0.13196,  0.10533])"
      ]
     },
     "execution_count": 192,
     "metadata": {},
     "output_type": "execute_result"
    },
    {
     "data": {
      "text/plain": [
       "array([ 0.09874,  0.07772,  0.07282,  0.10292,  0.07882,  0.1352 ,\n",
       "       -0.     ,  0.     ,  0.11285,  0.01498,  0.     , -0.06285,\n",
       "       -0.     , -0.     , -0.     ,  0.04062,  0.07203,  0.07086])"
      ]
     },
     "execution_count": 192,
     "metadata": {},
     "output_type": "execute_result"
    }
   ],
   "source": [
    "solver.beta\n",
    "solver.estimator_LR(solver.generate_intervention(500, {}))\n",
    "solver.estimator_Lasso(solver.generate_intervention(50000, list_dict_interventions[0]))"
   ]
  },
  {
   "cell_type": "code",
   "execution_count": 104,
   "metadata": {},
   "outputs": [
    {
     "ename": "NameError",
     "evalue": "name 'coverage' is not defined",
     "output_type": "error",
     "traceback": [
      "\u001b[0;31m----------------------------------------------------------------\u001b[0m",
      "\u001b[0;31mNameError\u001b[0m                      Traceback (most recent call last)",
      "\u001b[0;32m<ipython-input-104-9f012475faef>\u001b[0m in \u001b[0;36m<module>\u001b[0;34m\u001b[0m\n\u001b[0;32m----> 1\u001b[0;31m \u001b[0mnp\u001b[0m\u001b[0;34m.\u001b[0m\u001b[0mmean\u001b[0m\u001b[0;34m(\u001b[0m\u001b[0mcoverage\u001b[0m\u001b[0;34m)\u001b[0m\u001b[0;34m\u001b[0m\u001b[0;34m\u001b[0m\u001b[0m\n\u001b[0m\u001b[1;32m      2\u001b[0m \u001b[0mnp\u001b[0m\u001b[0;34m.\u001b[0m\u001b[0mstd\u001b[0m\u001b[0;34m(\u001b[0m\u001b[0mcoverage\u001b[0m\u001b[0;34m)\u001b[0m\u001b[0;34m\u001b[0m\u001b[0;34m\u001b[0m\u001b[0m\n\u001b[1;32m      3\u001b[0m \u001b[0mnp\u001b[0m\u001b[0;34m.\u001b[0m\u001b[0mmean\u001b[0m\u001b[0;34m(\u001b[0m\u001b[0mlenght\u001b[0m\u001b[0;34m)\u001b[0m\u001b[0;34m\u001b[0m\u001b[0;34m\u001b[0m\u001b[0m\n\u001b[1;32m      4\u001b[0m \u001b[0mnp\u001b[0m\u001b[0;34m.\u001b[0m\u001b[0mstd\u001b[0m\u001b[0;34m(\u001b[0m\u001b[0mlenght\u001b[0m\u001b[0;34m)\u001b[0m\u001b[0;34m\u001b[0m\u001b[0;34m\u001b[0m\u001b[0m\n",
      "\u001b[0;31mNameError\u001b[0m: name 'coverage' is not defined"
     ]
    }
   ],
   "source": [
    "np.mean(coverage)\n",
    "np.std(coverage)\n",
    "np.mean(lenght)\n",
    "np.std(lenght)"
   ]
  },
  {
   "cell_type": "code",
   "execution_count": null,
   "metadata": {},
   "outputs": [],
   "source": []
  },
  {
   "cell_type": "code",
   "execution_count": null,
   "metadata": {},
   "outputs": [],
   "source": [
    "np.mean(coverage)\n",
    "np.std(coverage)\n",
    "np.mean(lenght)\n",
    "np.std(lenght)"
   ]
  },
  {
   "cell_type": "code",
   "execution_count": null,
   "metadata": {},
   "outputs": [],
   "source": [
    "np.mean(coverage)\n",
    "np.std(coverage)\n",
    "np.mean(lenght)\n",
    "np.std(lenght)"
   ]
  },
  {
   "cell_type": "code",
   "execution_count": null,
   "metadata": {},
   "outputs": [],
   "source": [
    "np.mean(coverage)\n",
    "np.std(coverage)\n",
    "np.mean(lenght)\n",
    "np.std(lenght)"
   ]
  },
  {
   "cell_type": "code",
   "execution_count": null,
   "metadata": {},
   "outputs": [],
   "source": []
  }
 ],
 "metadata": {
  "kernelspec": {
   "display_name": "Python 3",
   "language": "python",
   "name": "python3"
  },
  "language_info": {
   "codemirror_mode": {
    "name": "ipython",
    "version": 3
   },
   "file_extension": ".py",
   "mimetype": "text/x-python",
   "name": "python",
   "nbconvert_exporter": "python",
   "pygments_lexer": "ipython3",
   "version": "3.7.6"
  }
 },
 "nbformat": 4,
 "nbformat_minor": 2
}

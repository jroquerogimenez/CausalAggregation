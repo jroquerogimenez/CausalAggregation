{
 "cells": [
  {
   "cell_type": "code",
   "execution_count": 204,
   "metadata": {},
   "outputs": [],
   "source": [
    "import numpy as np\n",
    "import scipy as sp\n",
    "import pandas as pd\n",
    "from sklearn.linear_model import LinearRegression\n",
    "import seaborn as sns\n",
    "import matplotlib.pyplot as plt\n",
    "from IPython.core.interactiveshell import InteractiveShell\n",
    "InteractiveShell.ast_node_interactivity = \"all\"\n",
    "%reload_ext autoreload\n",
    "%autoreload 2\n",
    "import itertools\n",
    "import sys\n",
    "sys.path.append('/home/roquero/CausalAggregation/Code')\n",
    "from generateEnvironment import GenerateEnvironment\n",
    "from solveProblem import SolveProblem\n",
    "import matplotlib as mpl\n",
    "plt.rcParams.update({\n",
    "    \"text.usetex\": True,\n",
    "    \"font.family\": \"sans-serif\",\n",
    "    \"font.sans-serif\": [\"Helvetica\"]})\n",
    "np.set_printoptions(suppress=True)\n",
    "np.set_printoptions(precision=5)"
   ]
  },
  {
   "cell_type": "code",
   "execution_count": 214,
   "metadata": {},
   "outputs": [
    {
     "name": "stdout",
     "output_type": "stream",
     "text": [
      "x_dim: 18\n"
     ]
    }
   ],
   "source": [
    "n_dim=20\n",
    "connectivity_e0 = np.zeros((n_dim,n_dim))\n",
    "connectivity_e0[np.arange(1,n_dim), np.arange(0,n_dim-1)] = np.random.normal(size=n_dim-1)\n",
    "connectivity_e0[1:,0]=5\n",
    "y_index=12\n",
    "x_indices=np.hstack([np.arange(1,y_index),(np.arange(y_index+1,n_dim))])\n",
    "print('x_dim: {}'.format(len(x_indices)))\n",
    "n_samples=50000\n",
    "n_reps=100\n",
    "coord=1"
   ]
  },
  {
   "cell_type": "code",
   "execution_count": 215,
   "metadata": {},
   "outputs": [],
   "source": [
    "list_dict_interventions = [{i:{'type':'independent'} for i in np.array([3,17])}]\n",
    "\n",
    "solver = SolveProblem(connectivity_e0,x_indices,y_index)\n",
    "\n",
    "list_environments = [solver.generate_intervention(n_samples, dict_interventions)\n",
    "                     for dict_interventions in list_dict_interventions]\n",
    "\n",
    "\n",
    "problem = solver.solve_problem(0.05, list_environments, n_samples)\n"
   ]
  },
  {
   "cell_type": "code",
   "execution_count": 216,
   "metadata": {},
   "outputs": [
    {
     "data": {
      "text/plain": [
       "(18, 2)"
      ]
     },
     "execution_count": 216,
     "metadata": {},
     "output_type": "execute_result"
    },
    {
     "data": {
      "text/plain": [
       "(2,)"
      ]
     },
     "execution_count": 216,
     "metadata": {},
     "output_type": "execute_result"
    },
    {
     "data": {
      "text/plain": [
       "(18, 18)"
      ]
     },
     "execution_count": 216,
     "metadata": {},
     "output_type": "execute_result"
    }
   ],
   "source": [
    "m, z, p = solver.combine_constraints(list_environments)\n",
    "m.shape\n",
    "z.shape\n",
    "p.shape"
   ]
  },
  {
   "cell_type": "code",
   "execution_count": 217,
   "metadata": {},
   "outputs": [
    {
     "data": {
      "text/plain": [
       "array([ 0.     ,  0.01075,  0.     ,  0.     ,  0.00629, -0.02787,\n",
       "        0.     ,  0.     ,  0.     ,  0.19062, -0.92573,  0.13154,\n",
       "        0.     ,  0.     ,  0.     ,  0.     ,  0.03239,  0.01859])"
      ]
     },
     "execution_count": 217,
     "metadata": {},
     "output_type": "execute_result"
    }
   ],
   "source": [
    "problem.variables()[0].value "
   ]
  },
  {
   "cell_type": "code",
   "execution_count": 219,
   "metadata": {},
   "outputs": [
    {
     "data": {
      "text/plain": [
       "array([ 0.     ,  0.     ,  0.     ,  0.     ,  0.     ,  0.     ,\n",
       "        0.     ,  0.     ,  0.     ,  0.     , -1.09747,  0.     ,\n",
       "        0.     ,  0.     ,  0.     ,  0.     ,  0.     ,  0.     ])"
      ]
     },
     "execution_count": 219,
     "metadata": {},
     "output_type": "execute_result"
    },
    {
     "data": {
      "text/plain": [
       "array([ 0.02905,  0.0174 ,  0.01735,  0.00966,  0.10737,  0.04702,\n",
       "        0.06438,  0.03616,  0.01917,  0.06134, -1.02414,  0.17595,\n",
       "       -0.0126 , -0.02319, -0.00536, -0.003  ,  0.02502,  0.0408 ])"
      ]
     },
     "execution_count": 219,
     "metadata": {},
     "output_type": "execute_result"
    },
    {
     "data": {
      "text/plain": [
       "array([ 0.     ,  0.01279, -0.     ,  0.     ,  0.04596, -0.     ,\n",
       "        0.     ,  0.     ,  0.     ,  0.16502, -0.87947,  0.09088,\n",
       "        0.     ,  0.     ,  0.08378, -0.     ,  0.     ,  0.02977])"
      ]
     },
     "execution_count": 219,
     "metadata": {},
     "output_type": "execute_result"
    }
   ],
   "source": [
    "solver.beta\n",
    "solver.estimator_LR(solver.generate_intervention(50000, {}))\n",
    "solver.estimator_Lasso(solver.generate_intervention(50000, list_dict_interventions[0]))"
   ]
  },
  {
   "cell_type": "code",
   "execution_count": 104,
   "metadata": {},
   "outputs": [
    {
     "ename": "NameError",
     "evalue": "name 'coverage' is not defined",
     "output_type": "error",
     "traceback": [
      "\u001b[0;31m----------------------------------------------------------------\u001b[0m",
      "\u001b[0;31mNameError\u001b[0m                      Traceback (most recent call last)",
      "\u001b[0;32m<ipython-input-104-9f012475faef>\u001b[0m in \u001b[0;36m<module>\u001b[0;34m\u001b[0m\n\u001b[0;32m----> 1\u001b[0;31m \u001b[0mnp\u001b[0m\u001b[0;34m.\u001b[0m\u001b[0mmean\u001b[0m\u001b[0;34m(\u001b[0m\u001b[0mcoverage\u001b[0m\u001b[0;34m)\u001b[0m\u001b[0;34m\u001b[0m\u001b[0;34m\u001b[0m\u001b[0m\n\u001b[0m\u001b[1;32m      2\u001b[0m \u001b[0mnp\u001b[0m\u001b[0;34m.\u001b[0m\u001b[0mstd\u001b[0m\u001b[0;34m(\u001b[0m\u001b[0mcoverage\u001b[0m\u001b[0;34m)\u001b[0m\u001b[0;34m\u001b[0m\u001b[0;34m\u001b[0m\u001b[0m\n\u001b[1;32m      3\u001b[0m \u001b[0mnp\u001b[0m\u001b[0;34m.\u001b[0m\u001b[0mmean\u001b[0m\u001b[0;34m(\u001b[0m\u001b[0mlenght\u001b[0m\u001b[0;34m)\u001b[0m\u001b[0;34m\u001b[0m\u001b[0;34m\u001b[0m\u001b[0m\n\u001b[1;32m      4\u001b[0m \u001b[0mnp\u001b[0m\u001b[0;34m.\u001b[0m\u001b[0mstd\u001b[0m\u001b[0;34m(\u001b[0m\u001b[0mlenght\u001b[0m\u001b[0;34m)\u001b[0m\u001b[0;34m\u001b[0m\u001b[0;34m\u001b[0m\u001b[0m\n",
      "\u001b[0;31mNameError\u001b[0m: name 'coverage' is not defined"
     ]
    }
   ],
   "source": [
    "np.mean(coverage)\n",
    "np.std(coverage)\n",
    "np.mean(lenght)\n",
    "np.std(lenght)"
   ]
  },
  {
   "cell_type": "code",
   "execution_count": null,
   "metadata": {},
   "outputs": [],
   "source": []
  },
  {
   "cell_type": "code",
   "execution_count": null,
   "metadata": {},
   "outputs": [],
   "source": [
    "np.mean(coverage)\n",
    "np.std(coverage)\n",
    "np.mean(lenght)\n",
    "np.std(lenght)"
   ]
  },
  {
   "cell_type": "code",
   "execution_count": null,
   "metadata": {},
   "outputs": [],
   "source": [
    "np.mean(coverage)\n",
    "np.std(coverage)\n",
    "np.mean(lenght)\n",
    "np.std(lenght)"
   ]
  },
  {
   "cell_type": "code",
   "execution_count": null,
   "metadata": {},
   "outputs": [],
   "source": [
    "np.mean(coverage)\n",
    "np.std(coverage)\n",
    "np.mean(lenght)\n",
    "np.std(lenght)"
   ]
  },
  {
   "cell_type": "code",
   "execution_count": null,
   "metadata": {},
   "outputs": [],
   "source": []
  }
 ],
 "metadata": {
  "kernelspec": {
   "display_name": "Python 3",
   "language": "python",
   "name": "python3"
  },
  "language_info": {
   "codemirror_mode": {
    "name": "ipython",
    "version": 3
   },
   "file_extension": ".py",
   "mimetype": "text/x-python",
   "name": "python",
   "nbconvert_exporter": "python",
   "pygments_lexer": "ipython3",
   "version": "3.7.6"
  }
 },
 "nbformat": 4,
 "nbformat_minor": 2
}

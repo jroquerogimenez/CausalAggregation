{
 "cells": [
  {
   "cell_type": "code",
   "execution_count": 1,
   "metadata": {},
   "outputs": [
    {
     "name": "stderr",
     "output_type": "stream",
     "text": [
      "/home/roquero/miniconda3/lib/python3.7/site-packages/matplotlib/__init__.py:886: MatplotlibDeprecationWarning: \n",
      "examples.directory is deprecated; in the future, examples will be found relative to the 'datapath' directory.\n",
      "  \"found relative to the 'datapath' directory.\".format(key))\n"
     ]
    }
   ],
   "source": [
    "import numpy as np\n",
    "import scipy as sp\n",
    "import pandas as pd\n",
    "from sklearn.linear_model import LinearRegression\n",
    "import seaborn as sns\n",
    "import matplotlib.pyplot as plt\n",
    "from IPython.core.interactiveshell import InteractiveShell\n",
    "InteractiveShell.ast_node_interactivity = \"all\"\n",
    "%reload_ext autoreload\n",
    "%autoreload 2\n",
    "import itertools\n",
    "import sys\n",
    "sys.path.append('/home/roquero/CausalAggregation/Code')\n",
    "from generateEnvironment import GenerateEnvironment\n",
    "from robust_estimator import SolveProblem\n",
    "import matplotlib as mpl\n",
    "plt.rcParams.update({\n",
    "    \"text.usetex\": True,\n",
    "    \"font.family\": \"sans-serif\",\n",
    "    \"font.sans-serif\": [\"Helvetica\"]})\n",
    "np.set_printoptions(suppress=True)\n",
    "np.set_printoptions(precision=5)"
   ]
  },
  {
   "cell_type": "code",
   "execution_count": 2,
   "metadata": {},
   "outputs": [],
   "source": [
    "connectivity_e0 = np.array([\n",
    "    [0,0,0,0,0,0,0,0], # H / 0\n",
    "    [0,0,0,0,0,0,0,0], # I / 1\n",
    "    [2,0,0,0,-1,0,0,0], # X_1 / 2\n",
    "    [1,0,1,0,0,0,0,0], # X_2 / 3\n",
    "    [0,0,0,2,0,0,0,0], # X_3 / 4\n",
    "    [0,0,1,0,1,0,0,0], # X_4 / 5\n",
    "    [1,0,0,1,0,2,0,0], # Y / 6\n",
    "    [0,0,0,1,0,2,-1,0], # X_5 / 7\n",
    "])\n",
    "x_indices=np.array([2,3,4,5,7])\n",
    "y_index=6\n",
    "n_samples=50000"
   ]
  },
  {
   "cell_type": "code",
   "execution_count": 18,
   "metadata": {},
   "outputs": [],
   "source": [
    "interventional_indices = np.array([2,3,4,5,7])#[7]\n",
    "solver = SolveProblem(connectivity_e0, x_indices, y_index)\n",
    "\n",
    "list_dict_interventions = [{i:{'type':'independent'} for i in np.array(interventional_indices)}]\n",
    "\n",
    "list_environments = [solver.generate_intervention(n_samples, dict_interventions)\n",
    "                     for dict_interventions in list_dict_interventions]"
   ]
  },
  {
   "cell_type": "code",
   "execution_count": 19,
   "metadata": {},
   "outputs": [],
   "source": [
    "M, _ = solver.combine_constraints(list_environments)\n",
    "delta = solver.compute_wass_radius(solver.generate_intervention(n_samples, {}), M, interventional_indices)"
   ]
  },
  {
   "cell_type": "code",
   "execution_count": 20,
   "metadata": {},
   "outputs": [
    {
     "data": {
      "text/plain": [
       "7.090337113779424"
      ]
     },
     "execution_count": 20,
     "metadata": {},
     "output_type": "execute_result"
    }
   ],
   "source": [
    "np.sqrt(delta)"
   ]
  },
  {
   "cell_type": "code",
   "execution_count": 21,
   "metadata": {},
   "outputs": [],
   "source": [
    "problem = solver.robust_estimator(np.sqrt(delta), list_environments, solver.generate_intervention(n_samples, {}))\n",
    "beta_hat = problem.variables()[0].value"
   ]
  },
  {
   "cell_type": "markdown",
   "metadata": {},
   "source": [
    "## Min max upper bound"
   ]
  },
  {
   "cell_type": "code",
   "execution_count": 22,
   "metadata": {},
   "outputs": [
    {
     "data": {
      "text/plain": [
       "1.7960962396983828"
      ]
     },
     "execution_count": 22,
     "metadata": {},
     "output_type": "execute_result"
    }
   ],
   "source": [
    "problem.value**2"
   ]
  },
  {
   "cell_type": "code",
   "execution_count": 23,
   "metadata": {},
   "outputs": [],
   "source": [
    "solver = SolveProblem(connectivity_e0,x_indices,y_index)\n",
    "interventional_environment = solver.generate_intervention(n_samples,\n",
    "                        {i:{'type':'do-zero'} for i in np.array(interventional_indices)})['dataset']\n",
    "\n",
    "solver = SolveProblem(connectivity_e0,x_indices,y_index)\n",
    "observational_environment = solver.generate_intervention(n_samples,{})['dataset']\n",
    "\n",
    "lr = LinearRegression()\n",
    "_  = lr.fit(observational_environment[x_indices,:].T, observational_environment[y_index,:])\n",
    "beta_LR_obs = lr.coef_\n",
    "\n",
    "lr = LinearRegression()\n",
    "_  = lr.fit(interventional_environment[x_indices,:].T, interventional_environment[y_index,:])\n",
    "beta_LR_int = lr.coef_"
   ]
  },
  {
   "cell_type": "code",
   "execution_count": 24,
   "metadata": {},
   "outputs": [
    {
     "data": {
      "text/plain": [
       "array([0, 1, 0, 2, 0])"
      ]
     },
     "execution_count": 24,
     "metadata": {},
     "output_type": "execute_result"
    },
    {
     "data": {
      "text/plain": [
       "array([ 0.00204,  1.0681 ,  0.02843,  2.12711, -0.03346])"
      ]
     },
     "execution_count": 24,
     "metadata": {},
     "output_type": "execute_result"
    },
    {
     "data": {
      "text/plain": [
       "array([ 0.08495,  1.07196,  0.15775,  1.99837, -0.53989])"
      ]
     },
     "execution_count": 24,
     "metadata": {},
     "output_type": "execute_result"
    },
    {
     "data": {
      "text/plain": [
       "array([0., 0., 0., 0., 0.])"
      ]
     },
     "execution_count": 24,
     "metadata": {},
     "output_type": "execute_result"
    }
   ],
   "source": [
    "solver.beta\n",
    "beta_hat\n",
    "beta_LR_obs\n",
    "beta_LR_int"
   ]
  },
  {
   "cell_type": "markdown",
   "metadata": {},
   "source": [
    "## Performance over the interventional do-zero dataset."
   ]
  },
  {
   "cell_type": "markdown",
   "metadata": {},
   "source": [
    "Robust estimator"
   ]
  },
  {
   "cell_type": "code",
   "execution_count": 25,
   "metadata": {},
   "outputs": [
    {
     "data": {
      "text/plain": [
       "2.0021145324761136"
      ]
     },
     "execution_count": 25,
     "metadata": {},
     "output_type": "execute_result"
    }
   ],
   "source": [
    "np.sum(np.square(interventional_environment[x_indices,:].T.dot(beta_hat)\n",
    "               -interventional_environment[y_index,:]))/interventional_environment.shape[1]"
   ]
  },
  {
   "cell_type": "markdown",
   "metadata": {},
   "source": [
    "Beta^0 estimator"
   ]
  },
  {
   "cell_type": "code",
   "execution_count": 26,
   "metadata": {},
   "outputs": [
    {
     "data": {
      "text/plain": [
       "2.0021145324761136"
      ]
     },
     "execution_count": 26,
     "metadata": {},
     "output_type": "execute_result"
    }
   ],
   "source": [
    "np.sum(np.square(interventional_environment[x_indices,:].T.dot(solver.beta)\n",
    "               -interventional_environment[y_index,:]))/interventional_environment.shape[1]"
   ]
  },
  {
   "cell_type": "markdown",
   "metadata": {},
   "source": [
    "beta_OLS on the interventional dataset"
   ]
  },
  {
   "cell_type": "code",
   "execution_count": 27,
   "metadata": {},
   "outputs": [
    {
     "data": {
      "text/plain": [
       "2.0021145324761136"
      ]
     },
     "execution_count": 27,
     "metadata": {},
     "output_type": "execute_result"
    }
   ],
   "source": [
    "np.sum(np.square(interventional_environment[x_indices,:].T.dot(beta_LR_int)\n",
    "               -interventional_environment[y_index,:]))/interventional_environment.shape[1]"
   ]
  },
  {
   "cell_type": "markdown",
   "metadata": {},
   "source": [
    "beta_OLS on observational dataset"
   ]
  },
  {
   "cell_type": "code",
   "execution_count": 28,
   "metadata": {},
   "outputs": [
    {
     "data": {
      "text/plain": [
       "2.0021145324761136"
      ]
     },
     "execution_count": 28,
     "metadata": {},
     "output_type": "execute_result"
    }
   ],
   "source": [
    "np.sum(np.square(interventional_environment[x_indices,:].T.dot(beta_LR_obs)\n",
    "               -interventional_environment[y_index,:]))/interventional_environment.shape[1]"
   ]
  },
  {
   "cell_type": "markdown",
   "metadata": {},
   "source": [
    "## Performance over observational dataset."
   ]
  },
  {
   "cell_type": "markdown",
   "metadata": {},
   "source": [
    "Robust estimator"
   ]
  },
  {
   "cell_type": "code",
   "execution_count": 29,
   "metadata": {},
   "outputs": [
    {
     "data": {
      "text/plain": [
       "1.330426305811926"
      ]
     },
     "execution_count": 29,
     "metadata": {},
     "output_type": "execute_result"
    }
   ],
   "source": [
    "np.sum(np.square(observational_environment[x_indices,:].T.dot(beta_hat)\n",
    "               -observational_environment[y_index,:]))/observational_environment.shape[1]"
   ]
  },
  {
   "cell_type": "markdown",
   "metadata": {},
   "source": [
    "Beta^0 estimator"
   ]
  },
  {
   "cell_type": "code",
   "execution_count": 30,
   "metadata": {},
   "outputs": [
    {
     "data": {
      "text/plain": [
       "1.9984519871827002"
      ]
     },
     "execution_count": 30,
     "metadata": {},
     "output_type": "execute_result"
    }
   ],
   "source": [
    "np.sum(np.square(observational_environment[x_indices,:].T.dot(solver.beta)\n",
    "               -observational_environment[y_index,:]))/observational_environment.shape[1]"
   ]
  },
  {
   "cell_type": "markdown",
   "metadata": {},
   "source": [
    "beta_OLS on observational dataset"
   ]
  },
  {
   "cell_type": "code",
   "execution_count": 31,
   "metadata": {},
   "outputs": [
    {
     "data": {
      "text/plain": [
       "0.5380317227987106"
      ]
     },
     "execution_count": 31,
     "metadata": {},
     "output_type": "execute_result"
    }
   ],
   "source": [
    "np.sum(np.square(observational_environment[x_indices,:].T.dot(beta_LR_obs)\n",
    "               -observational_environment[y_index,:]))/observational_environment.shape[1]"
   ]
  },
  {
   "cell_type": "markdown",
   "metadata": {},
   "source": [
    "beta_OLS on the interventional dataset"
   ]
  },
  {
   "cell_type": "code",
   "execution_count": 32,
   "metadata": {},
   "outputs": [
    {
     "data": {
      "text/plain": [
       "46.41119555136023"
      ]
     },
     "execution_count": 32,
     "metadata": {},
     "output_type": "execute_result"
    }
   ],
   "source": [
    "np.sum(np.square(observational_environment[x_indices,:].T.dot(beta_LR_int)\n",
    "               -observational_environment[y_index,:]))/observational_environment.shape[1]"
   ]
  },
  {
   "cell_type": "markdown",
   "metadata": {},
   "source": [
    "## Additional sanity checks"
   ]
  },
  {
   "cell_type": "code",
   "execution_count": 458,
   "metadata": {},
   "outputs": [],
   "source": [
    "x_dim=4\n",
    "V = np.random.binomial(n=5,p=0.2, size=(x_dim,2))"
   ]
  },
  {
   "cell_type": "code",
   "execution_count": 481,
   "metadata": {},
   "outputs": [],
   "source": [
    "VtV = V.T.dot(V)\n",
    "M = np.eye(2)*12\n",
    "VtVinv = np.linalg.inv(VtV + M)\n",
    "A = V.dot(VtVinv).dot(V.T)"
   ]
  },
  {
   "cell_type": "code",
   "execution_count": 482,
   "metadata": {},
   "outputs": [
    {
     "data": {
      "text/plain": [
       "array([[ 0.91304, -0.04348, -0.04348, -0.17391],\n",
       "       [-0.04348,  0.9398 ,  0.01672, -0.08696],\n",
       "       [-0.04348,  0.01672,  0.9398 , -0.08696],\n",
       "       [-0.17391, -0.08696, -0.08696,  0.65217]])"
      ]
     },
     "execution_count": 482,
     "metadata": {},
     "output_type": "execute_result"
    },
    {
     "data": {
      "text/plain": [
       "array([1.     , 0.52174, 0.92308, 1.     ])"
      ]
     },
     "execution_count": 482,
     "metadata": {},
     "output_type": "execute_result"
    },
    {
     "data": {
      "text/plain": [
       "array([[ 1.16667,  0.08333,  0.08333,  0.33333],\n",
       "       [ 0.08333,  1.08333, -0.     ,  0.16667],\n",
       "       [ 0.08333,  0.     ,  1.08333,  0.16667],\n",
       "       [ 0.33333,  0.16667,  0.16667,  1.66667]])"
      ]
     },
     "execution_count": 482,
     "metadata": {},
     "output_type": "execute_result"
    }
   ],
   "source": [
    "Q = np.eye(x_dim)-A\n",
    "Q\n",
    "np.linalg.eigvals(Q)\n",
    "np.linalg.inv(Q)"
   ]
  },
  {
   "cell_type": "code",
   "execution_count": 483,
   "metadata": {},
   "outputs": [],
   "source": [
    "Qinv = sum([np.linalg.multi_dot([A]*i) for i in np.arange(2,100)])+A+np.eye(x_dim)"
   ]
  },
  {
   "cell_type": "code",
   "execution_count": 484,
   "metadata": {},
   "outputs": [
    {
     "data": {
      "text/plain": [
       "2.220446049250313e-16"
      ]
     },
     "execution_count": 484,
     "metadata": {},
     "output_type": "execute_result"
    }
   ],
   "source": [
    "np.max(np.abs(Qinv-np.linalg.inv(Q)))"
   ]
  },
  {
   "cell_type": "code",
   "execution_count": null,
   "metadata": {},
   "outputs": [],
   "source": []
  }
 ],
 "metadata": {
  "kernelspec": {
   "display_name": "Python 3",
   "language": "python",
   "name": "python3"
  },
  "language_info": {
   "codemirror_mode": {
    "name": "ipython",
    "version": 3
   },
   "file_extension": ".py",
   "mimetype": "text/x-python",
   "name": "python",
   "nbconvert_exporter": "python",
   "pygments_lexer": "ipython3",
   "version": "3.7.6"
  }
 },
 "nbformat": 4,
 "nbformat_minor": 2
}

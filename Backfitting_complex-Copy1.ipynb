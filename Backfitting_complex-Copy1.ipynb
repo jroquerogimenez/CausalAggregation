{
 "cells": [
  {
   "cell_type": "code",
   "execution_count": 1,
   "metadata": {},
   "outputs": [
    {
     "name": "stderr",
     "output_type": "stream",
     "text": [
      "/home/roquero/miniconda3/lib/python3.7/site-packages/matplotlib/__init__.py:886: MatplotlibDeprecationWarning: \n",
      "examples.directory is deprecated; in the future, examples will be found relative to the 'datapath' directory.\n",
      "  \"found relative to the 'datapath' directory.\".format(key))\n"
     ]
    }
   ],
   "source": [
    "import sys, os, itertools, sklearn\n",
    "sys.path.append('/home/roquero/CausalAggregation/Code')\n",
    "import pandas as pd\n",
    "import numpy as np\n",
    "import _pickle as pkl\n",
    "import matplotlib.pyplot as plt\n",
    "import seaborn as sns\n",
    "\n",
    "from sklearn import linear_model\n",
    "from sklearn.linear_model import LassoCV, Lasso\n",
    "from sklearn import datasets\n",
    "from sklearn.metrics import auc\n",
    "from scipy.interpolate import UnivariateSpline\n",
    "from IPython.core.interactiveshell import InteractiveShell\n",
    "InteractiveShell.ast_node_interactivity = \"all\"\n",
    "%reload_ext autoreload\n",
    "%autoreload 2\n",
    "np.set_printoptions(suppress=True)\n",
    "np.set_printoptions(formatter={'float': lambda x: \"{0:0.3f}\".format(x)}, linewidth=100000)\n",
    "from backfitting import Backfitting\n",
    "from base_environment import BaseEnvironment\n",
    "from collection_environment import CollectionEnvironment\n",
    "from regression_method import PolynomialRegression, RandomForestRegression\n",
    "from sklearn.linear_model import LinearRegression, Ridge\n",
    "from sklearn.ensemble import RandomForestRegressor\n",
    "from sklearn.preprocessing import PolynomialFeatures\n"
   ]
  },
  {
   "cell_type": "code",
   "execution_count": 2,
   "metadata": {},
   "outputs": [],
   "source": [
    "ik_h, se_h = [], (lambda input_samples:input_samples)\n",
    "ik_x1, se_x1 = ['h'], (lambda input_samples: 2*input_samples[0] + input_samples[1])\n",
    "ik_x2, se_x2 = ['h', 'x1'], (lambda input_samples: input_samples[0] + input_samples[1] + input_samples[2])\n",
    "ik_x3, se_x3 = ['x1', 'x2'], (lambda input_samples: -input_samples[0] * 2*input_samples[1] + input_samples[2])\n",
    "#ik_x4, se_x4 = ['x1', 'x3'], (lambda input_samples: input_samples[0] + input_samples[1] + input_samples[2])\n",
    "ik_x4, se_x4 = ['x1', 'x3'], (lambda input_samples: np.log(1+np.abs(input_samples[0])) + input_samples[1] + input_samples[2])\n",
    "#ik_y, se_y = ['h','x1','x2','x3','x4'], (lambda input_samples:\n",
    "#                                         input_samples[0] \n",
    "#                                         + input_samples[1]**2\n",
    "#                                         + 0.5*input_samples[1]*input_samples[2]*input_samples[3]\n",
    "#                                         - 0.5*input_samples[3]*input_samples[4]\n",
    "#                                         - input_samples[2]*input_samples[4] + input_samples[5])\n",
    "ik_y, se_y = ['h','x1','x2','x3','x4'], (lambda input_samples:\n",
    "                                         (input_samples[0]>0).astype(float)\n",
    "                                         + (input_samples[1]<-1).astype(float)\n",
    "                                         + 0.5*(input_samples[1]>0).astype(float)*(input_samples[2]>0.5).astype(float)*(input_samples[3]<0.5).astype(float)\n",
    "                                         - 0.5*(input_samples[3]<-0.5).astype(float)*(input_samples[4]<0).astype(float)\n",
    "                                         - (input_samples[2]<0).astype(float)*(input_samples[4]>-0.5).astype(float) + input_samples[5])\n",
    "ik_x5, se_x5 = ['x2', 'x4', 'y'], (lambda input_samples: 2*input_samples[0] + input_samples[1] - input_samples[2] + input_samples[3])"
   ]
  },
  {
   "cell_type": "code",
   "execution_count": 3,
   "metadata": {},
   "outputs": [],
   "source": [
    "fh = {'input_keys':ik_h, 'structural_eq': se_h}\n",
    "f1 = {'input_keys':ik_x1, 'structural_eq': se_x1}\n",
    "f2 = {'input_keys':ik_x2, 'structural_eq': se_x2}\n",
    "f3 = {'input_keys':ik_x3, 'structural_eq': se_x3}\n",
    "f4 = {'input_keys':ik_x4, 'structural_eq': se_x4}\n",
    "f5 = {'input_keys':ik_x5, 'structural_eq': se_x5}\n",
    "fy = {'input_keys':ik_y, 'structural_eq': se_y}\n",
    "\n",
    "sh = lambda n_samples: np.random.normal(size=n_samples)/200\n",
    "s1 = lambda n_samples: np.random.normal(size=n_samples)\n",
    "s2 = lambda n_samples: np.random.normal(size=n_samples)\n",
    "s3 = lambda n_samples: np.random.normal(size=n_samples)\n",
    "s4 = lambda n_samples: np.random.normal(size=n_samples)\n",
    "s5 = lambda n_samples: np.random.normal(size=n_samples)\n",
    "sy = lambda n_samples: np.random.normal(size=n_samples)/500\n",
    "\n",
    "topo_order = ['h','x1','x2','x3','x4','y','x5']\n",
    "y_key = 'y'\n",
    "x_key = ['x1','x2','x3','x4','x5']\n",
    "\n",
    "structural_equation_dict = {'x1':f1, 'x2':f2, 'x3':f3, 'y':fy, 'x4':f4, 'x5':f5, 'h':fh}\n",
    "disturbance_sampler_dict = {'x1':s1, 'x2':s2, 'x3':s3, 'y':sy, 'x4':s4, 'x5':s5, 'h':sh}\n",
    "\n",
    "base = BaseEnvironment(structural_equation_dict, disturbance_sampler_dict, topo_order, y_key, x_key)\n",
    "coll_env = CollectionEnvironment(base)"
   ]
  },
  {
   "cell_type": "code",
   "execution_count": 4,
   "metadata": {},
   "outputs": [],
   "source": [
    "coll_env.add_env('e1', {'x1':{'type':'independent'},'x2':{'type':'independent'}, 'x3':{'type':'independent'}}, 10000)\n",
    "coll_env.add_env('e2', {'x2':{'type':'independent'},'x4':{'type':'independent'}}, 10000)\n",
    "coll_env.add_env('e3', {'x4':{'type':'independent'},'x3':{'type':'independent'}}, 10000)\n",
    "coll_env.add_env('e4', {'x1':{'type':'independent'},'x5':{'type':'independent'}}, 10000)\n"
   ]
  },
  {
   "cell_type": "code",
   "execution_count": 5,
   "metadata": {},
   "outputs": [
    {
     "data": {
      "text/plain": [
       "array([-0.001, 0.001, 0.008, 0.550, 0.314])"
      ]
     },
     "execution_count": 5,
     "metadata": {},
     "output_type": "execute_result"
    }
   ],
   "source": [
    "coll_env.env['e1'].data['X'].mean(axis=1)"
   ]
  },
  {
   "cell_type": "code",
   "execution_count": 6,
   "metadata": {},
   "outputs": [
    {
     "data": {
      "text/plain": [
       "<matplotlib.collections.PathCollection at 0x7fe9d7e75a10>"
      ]
     },
     "execution_count": 6,
     "metadata": {},
     "output_type": "execute_result"
    },
    {
     "data": {
      "image/png": "[encoded data removed]",
      "text/plain": [
       "<Figure size 432x288 with 1 Axes>"
      ]
     },
     "metadata": {
      "needs_background": "light"
     },
     "output_type": "display_data"
    }
   ],
   "source": [
    "plt.scatter(coll_env.env['e1'].data['X'][0,:],coll_env.env['e1'].data['X'][1,:])"
   ]
  },
  {
   "cell_type": "code",
   "execution_count": 7,
   "metadata": {},
   "outputs": [
    {
     "data": {
      "text/plain": [
       "<matplotlib.collections.PathCollection at 0x7fea00dd40d0>"
      ]
     },
     "execution_count": 7,
     "metadata": {},
     "output_type": "execute_result"
    },
    {
     "data": {
      "image/png": "[encoded data removed]",
      "text/plain": [
       "<Figure size 432x288 with 1 Axes>"
      ]
     },
     "metadata": {
      "needs_background": "light"
     },
     "output_type": "display_data"
    }
   ],
   "source": [
    "plt.scatter(coll_env.env['e1'].data['X'][0,:],coll_env.env['e1'].data['Y'])"
   ]
  },
  {
   "cell_type": "code",
   "execution_count": 8,
   "metadata": {
    "scrolled": true
   },
   "outputs": [
    {
     "name": "stderr",
     "output_type": "stream",
     "text": [
      "100%|██████████| 20/20 [10:16<00:00, 30.81s/it]\n"
     ]
    }
   ],
   "source": [
    "params_method = {'regression_method':'HuberRegressor',\n",
    "                 'power_features': {\n",
    "                     'e1':10,\n",
    "                     'e2':10,\n",
    "                     'e3':10,\n",
    "                     'e4':10,\n",
    "                     'e5':10,\n",
    "                                     },\n",
    "                 'selected_features':{\n",
    "                     'e1':['1','x1^0', 'x2^0','x2^2',  'x3^0', 'x1^2', 'x1^0x2^0', 'x1^0x3^0',  'x2^0x3^0', 'x3^2', 'x1^3',\n",
    "                           'x1^2x2^0', 'x1^2x3^0', 'x1^0x2^2', 'x1^0x2^0x3^0', 'x1^0x3^2', 'x2^3', 'x2^2x3^0', 'x2^0x3^2', 'x3^3'],\n",
    "                     'e2':['x2^0x4^0'],\n",
    "                     'e3':['x3^0x4^0'],\n",
    "                     'e4':['x1^0x5^0'],\n",
    "                 },\n",
    "                 'n_estimators':60\n",
    "                }\n",
    "\n",
    "backfit = Backfitting(RandomForestRegression, \n",
    "                      'backfitting',\n",
    "                      max_n_iter=20,\n",
    "                      gap_convergence=1e-5,\n",
    "                      warm_start=False, \n",
    "                      params_method=params_method)\n",
    "                      \n",
    "res = backfit.fit(coll_env)"
   ]
  },
  {
   "cell_type": "code",
   "execution_count": 9,
   "metadata": {},
   "outputs": [
    {
     "data": {
      "text/plain": [
       "{'e1': [0.11691781938223944,\n",
       "  0.06450487304122733,\n",
       "  0.10023429323417715,\n",
       "  0.01886220257415403,\n",
       "  0.16142282593010981,\n",
       "  0.06512175595628442,\n",
       "  0.20378268472491523,\n",
       "  0.30839985169997997,\n",
       "  0.2724914706673165,\n",
       "  0.3099841750032227,\n",
       "  0.8529922808624557,\n",
       "  0.04195625021747568,\n",
       "  0.6459982134148272,\n",
       "  1.071932713322722,\n",
       "  0.5904417553814977,\n",
       "  0.7649368269139707,\n",
       "  1.161540051274229,\n",
       "  0.0874532583858916,\n",
       "  1.7267923323659002],\n",
       " 'e2': [0.08517858194753387,\n",
       "  0.09063597593683541,\n",
       "  0.023815687978354348,\n",
       "  0.11417294257181008,\n",
       "  0.07767719620297119,\n",
       "  0.22171767407749787,\n",
       "  0.13808065668347733,\n",
       "  0.25569941756328324,\n",
       "  0.24393880256527017,\n",
       "  0.3771771988608282,\n",
       "  0.21509727588667518,\n",
       "  0.5263302046807008,\n",
       "  0.1677873316460348,\n",
       "  0.6085400519364786,\n",
       "  1.225227491787543,\n",
       "  0.7984478173066439,\n",
       "  0.6017674630283232,\n",
       "  1.089105487762158,\n",
       "  0.2763900208570172],\n",
       " 'e3': [0.14448081461918827,\n",
       "  0.013624760087438773,\n",
       "  0.08447373729010559,\n",
       "  0.08586208542832845,\n",
       "  0.08322199886820413,\n",
       "  0.06412307739778722,\n",
       "  0.20079613031720622,\n",
       "  0.15431121213860957,\n",
       "  0.24438368382593956,\n",
       "  0.2591109754119451,\n",
       "  0.42612821202423395,\n",
       "  0.3117400013255897,\n",
       "  0.30656840611352243,\n",
       "  0.5492463046300557,\n",
       "  0.04672720984883152,\n",
       "  0.6909886344585593,\n",
       "  0.6752756376480684,\n",
       "  0.6755859257932194,\n",
       "  0.8509347092408585],\n",
       " 'e4': [0.10966906686852265,\n",
       "  0.09188095411994236,\n",
       "  0.03457314855252416,\n",
       "  0.07466828465103377,\n",
       "  0.07785258907638817,\n",
       "  0.10177204936818289,\n",
       "  0.15040902327894765,\n",
       "  0.019601956633999374,\n",
       "  0.4049756137144423,\n",
       "  0.6043920312476756,\n",
       "  0.03308294802151233,\n",
       "  0.41627328141848124,\n",
       "  0.9726825795055831,\n",
       "  0.6035356418131708,\n",
       "  0.320510099308427,\n",
       "  1.1623812512829068,\n",
       "  0.38566341046695907,\n",
       "  0.6804796039446739,\n",
       "  0.7875628157855218]}"
      ]
     },
     "execution_count": 9,
     "metadata": {},
     "output_type": "execute_result"
    }
   ],
   "source": [
    "backfit.output_model_variation"
   ]
  },
  {
   "cell_type": "code",
   "execution_count": 10,
   "metadata": {},
   "outputs": [
    {
     "data": {
      "text/plain": [
       "array([[0.098, -0.856, -0.797, 0.253, 0.798, -0.455, 0.379, 0.332, -1.042, 1.169],\n",
       "       [2.438, -0.403, 0.748, -1.159, 0.355, 0.545, 0.189, -0.936, -0.721, -0.644],\n",
       "       [0.026, 0.136, -0.378, -0.409, 0.238, -0.238, 0.159, -0.181, 0.945, -0.527],\n",
       "       [-1.972, -0.629, -0.330, 0.857, 1.893, 1.235, -0.933, -0.272, 0.454, -1.463],\n",
       "       [0.303, 0.678, -1.307, 1.403, 1.057, -0.342, -1.474, -0.015, 2.391, 0.065],\n",
       "       [-1.486, -1.196, 2.182, 0.152, -0.995, -0.704, -0.313, 1.157, 0.854, 1.863]])"
      ]
     },
     "execution_count": 10,
     "metadata": {},
     "output_type": "execute_result"
    }
   ],
   "source": [
    "samples = np.random.normal(size=(6,10))\n",
    "samples"
   ]
  },
  {
   "cell_type": "code",
   "execution_count": 11,
   "metadata": {
    "scrolled": true
   },
   "outputs": [
    {
     "data": {
      "text/plain": [
       "array([0.000, 0.000, 0.000, 1.000, 0.500, 0.000, 0.000, -0.500, 0.000, -1.000])"
      ]
     },
     "execution_count": 11,
     "metadata": {},
     "output_type": "execute_result"
    },
    {
     "data": {
      "text/plain": [
       "array([0.475, 0.773, 0.299, 1.006, 2.428, 0.392, 0.402, -0.620, -0.096, -0.765])"
      ]
     },
     "execution_count": 11,
     "metadata": {},
     "output_type": "execute_result"
    }
   ],
   "source": [
    "backfit.true_function_y(backfit.x_train_full[:,:10])\n",
    "backfit.output_function_merged(backfit.x_train_full[:,:10])"
   ]
  },
  {
   "cell_type": "code",
   "execution_count": 12,
   "metadata": {
    "scrolled": true
   },
   "outputs": [
    {
     "data": {
      "text/plain": [
       "array([0.500, 0.000, 0.000, -1.000, 0.000, 0.000, 0.000, -1.000, 0.000, -0.500])"
      ]
     },
     "execution_count": 12,
     "metadata": {},
     "output_type": "execute_result"
    },
    {
     "data": {
      "text/plain": [
       "array([5.700, 0.022, -0.955, -0.218, 0.353, -0.117, 1.755, -4.240, 5.614, 0.433])"
      ]
     },
     "execution_count": 12,
     "metadata": {},
     "output_type": "execute_result"
    }
   ],
   "source": [
    "backfit.true_function_y(samples)\n",
    "backfit.output_function_merged(samples)"
   ]
  },
  {
   "cell_type": "code",
   "execution_count": 13,
   "metadata": {},
   "outputs": [
    {
     "data": {
      "text/plain": [
       "7.46629141150725"
      ]
     },
     "execution_count": 13,
     "metadata": {},
     "output_type": "execute_result"
    }
   ],
   "source": [
    "backfit.evaluate_gap(samples)"
   ]
  },
  {
   "cell_type": "code",
   "execution_count": 14,
   "metadata": {
    "scrolled": true
   },
   "outputs": [
    {
     "data": {
      "image/png": "[encoded data removed]",
      "text/plain": [
       "<Figure size 432x288 with 1 Axes>"
      ]
     },
     "metadata": {
      "needs_background": "light"
     },
     "output_type": "display_data"
    }
   ],
   "source": [
    " _ = plt.plot(backfit.output_model_variation['e2'])"
   ]
  },
  {
   "cell_type": "code",
   "execution_count": 15,
   "metadata": {},
   "outputs": [
    {
     "name": "stdout",
     "output_type": "stream",
     "text": [
      "0\n"
     ]
    },
    {
     "ename": "AttributeError",
     "evalue": "'RandomForestRegression' object has no attribute 'get_feature_names'",
     "output_type": "error",
     "traceback": [
      "\u001b[0;31m---------------------------------------------------------------------------\u001b[0m",
      "\u001b[0;31mAttributeError\u001b[0m                            Traceback (most recent call last)",
      "\u001b[0;32m<ipython-input-15-a51dde66486f>\u001b[0m in \u001b[0;36m<module>\u001b[0;34m\u001b[0m\n\u001b[1;32m      1\u001b[0m \u001b[0;32mfor\u001b[0m \u001b[0mvalues\u001b[0m \u001b[0;32min\u001b[0m \u001b[0mbackfit\u001b[0m\u001b[0;34m.\u001b[0m\u001b[0moutput_model_dict\u001b[0m\u001b[0;34m.\u001b[0m\u001b[0mvalues\u001b[0m\u001b[0;34m(\u001b[0m\u001b[0;34m)\u001b[0m\u001b[0;34m:\u001b[0m\u001b[0;34m\u001b[0m\u001b[0;34m\u001b[0m\u001b[0m\n\u001b[1;32m      2\u001b[0m     \u001b[0mprint\u001b[0m\u001b[0;34m(\u001b[0m\u001b[0mvalues\u001b[0m\u001b[0;34m.\u001b[0m\u001b[0mcoef_\u001b[0m\u001b[0;34m(\u001b[0m\u001b[0;34m)\u001b[0m\u001b[0;34m)\u001b[0m\u001b[0;34m\u001b[0m\u001b[0;34m\u001b[0m\u001b[0m\n\u001b[0;32m----> 3\u001b[0;31m     \u001b[0mprint\u001b[0m\u001b[0;34m(\u001b[0m\u001b[0mvalues\u001b[0m\u001b[0;34m.\u001b[0m\u001b[0mget_feature_names\u001b[0m\u001b[0;34m(\u001b[0m\u001b[0;34m)\u001b[0m\u001b[0;34m)\u001b[0m\u001b[0;34m\u001b[0m\u001b[0;34m\u001b[0m\u001b[0m\n\u001b[0m",
      "\u001b[0;31mAttributeError\u001b[0m: 'RandomForestRegression' object has no attribute 'get_feature_names'"
     ]
    }
   ],
   "source": [
    "for values in backfit.output_model_dict.values():\n",
    "    print(values.coef_())\n",
    "    print(values.get_feature_names())"
   ]
  },
  {
   "cell_type": "code",
   "execution_count": null,
   "metadata": {},
   "outputs": [],
   "source": []
  },
  {
   "cell_type": "code",
   "execution_count": null,
   "metadata": {},
   "outputs": [],
   "source": [
    "backfit.output_function_dict['e1'](np.array([1,1,1]).reshape(1,-1))"
   ]
  },
  {
   "cell_type": "code",
   "execution_count": null,
   "metadata": {},
   "outputs": [],
   "source": [
    "backfit.output_function_dict['e1']"
   ]
  },
  {
   "cell_type": "code",
   "execution_count": null,
   "metadata": {},
   "outputs": [],
   "source": []
  },
  {
   "cell_type": "code",
   "execution_count": null,
   "metadata": {},
   "outputs": [],
   "source": []
  }
 ],
 "metadata": {
  "kernelspec": {
   "display_name": "Python 3",
   "language": "python",
   "name": "python3"
  },
  "language_info": {
   "codemirror_mode": {
    "name": "ipython",
    "version": 3
   },
   "file_extension": ".py",
   "mimetype": "text/x-python",
   "name": "python",
   "nbconvert_exporter": "python",
   "pygments_lexer": "ipython3",
   "version": "3.7.6"
  }
 },
 "nbformat": 4,
 "nbformat_minor": 2
}

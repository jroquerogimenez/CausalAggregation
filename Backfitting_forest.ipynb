{
 "cells": [
  {
   "cell_type": "code",
   "execution_count": 55,
   "metadata": {},
   "outputs": [],
   "source": [
    "import sys, os, itertools, sklearn\n",
    "sys.path.append('/home/roquero/CausalAggregation/Code')\n",
    "import pandas as pd\n",
    "import numpy as np\n",
    "import _pickle as pkl\n",
    "import matplotlib.pyplot as plt\n",
    "import seaborn as sns\n",
    "\n",
    "from sklearn import linear_model\n",
    "from sklearn.linear_model import LassoCV, Lasso\n",
    "from sklearn import datasets\n",
    "from sklearn.metrics import auc\n",
    "from scipy.interpolate import UnivariateSpline\n",
    "from IPython.core.interactiveshell import InteractiveShell\n",
    "InteractiveShell.ast_node_interactivity = \"all\"\n",
    "%reload_ext autoreload\n",
    "%autoreload 2\n",
    "np.set_printoptions(suppress=True)\n",
    "np.set_printoptions(formatter={'float': lambda x: \"{0:0.3f}\".format(x)})\n",
    "from backfitting import Backfitting\n",
    "from boosting import Boosting\n",
    "from base_environment import BaseEnvironment\n",
    "from collection_environment import CollectionEnvironment\n",
    "from regression_method import PolynomialRegression, RandomForestRegression\n",
    "from sklearn.linear_model import LinearRegression, Ridge\n",
    "from sklearn.ensemble import RandomForestRegressor\n",
    "from sklearn.preprocessing import PolynomialFeatures\n"
   ]
  },
  {
   "cell_type": "code",
   "execution_count": 48,
   "metadata": {},
   "outputs": [],
   "source": [
    "ik_h, se_h = [], (lambda input_samples:input_samples)\n",
    "ik_x1, se_x1 = ['h'], (lambda input_samples: 2*input_samples[0] + input_samples[1])\n",
    "ik_x2, se_x2 = ['h', 'x1'], (lambda input_samples: input_samples[0] * input_samples[1] + input_samples[2])\n",
    "ik_x3, se_x3 = ['x1', 'x2'], (lambda input_samples: -input_samples[0] * 2*input_samples[1] + input_samples[2])\n",
    "ik_x4, se_x4 = ['x1', 'x3'], (lambda input_samples: np.log(1+np.abs(input_samples[0])) + input_samples[1] + input_samples[2])\n",
    "ik_y, se_y = ['h','x1','x2','x3','x4'], (lambda input_samples:\n",
    "                                         input_samples[0] \n",
    "                                         + input_samples[1]>0\n",
    "                                         - input_samples[1]*input_samples[2]*input_samples[3]\n",
    "                                         + input_samples[3]*input_samples[4]\n",
    "                                         + 2*input_samples[2]*input_samples[4] + input_samples[5])\n",
    "ik_x5, se_x5 = ['x2', 'x4', 'y'], (lambda input_samples: 2*input_samples[0] + input_samples[1] - input_samples[2] + input_samples[3])"
   ]
  },
  {
   "cell_type": "code",
   "execution_count": 49,
   "metadata": {},
   "outputs": [],
   "source": [
    "fh = {'input_keys':ik_h, 'structural_eq': se_h}\n",
    "f1 = {'input_keys':ik_x1, 'structural_eq': se_x1}\n",
    "f2 = {'input_keys':ik_x2, 'structural_eq': se_x2}\n",
    "f3 = {'input_keys':ik_x3, 'structural_eq': se_x3}\n",
    "f4 = {'input_keys':ik_x4, 'structural_eq': se_x4}\n",
    "f5 = {'input_keys':ik_x5, 'structural_eq': se_x5}\n",
    "fy = {'input_keys':ik_y, 'structural_eq': se_y}\n",
    "\n",
    "sh = lambda n_samples: np.random.normal(size=n_samples)\n",
    "s1 = lambda n_samples: np.random.normal(size=n_samples)\n",
    "s2 = lambda n_samples: np.random.normal(size=n_samples)\n",
    "s3 = lambda n_samples: np.random.normal(size=n_samples)\n",
    "s4 = lambda n_samples: np.random.normal(size=n_samples)\n",
    "s5 = lambda n_samples: np.random.normal(size=n_samples)\n",
    "sy = lambda n_samples: np.random.normal(size=n_samples)\n",
    "\n",
    "topo_order = ['h','x1','x2','x3','x4','y','x5']\n",
    "y_key = 'y'\n",
    "x_key = ['x1','x2','x3','x4','x5']\n",
    "\n",
    "structural_equation_dict = {'x1':f1, 'x2':f2, 'x3':f3, 'y':fy, 'x4':f4, 'x5':f5, 'h':fh}\n",
    "disturbance_sampler_dict = {'x1':s1, 'x2':s2, 'x3':s3, 'y':sy, 'x4':s4, 'x5':s5, 'h':sh}\n",
    "\n",
    "base = BaseEnvironment(structural_equation_dict, disturbance_sampler_dict, topo_order, y_key, x_key)\n",
    "coll_env = CollectionEnvironment(base)"
   ]
  },
  {
   "cell_type": "code",
   "execution_count": 50,
   "metadata": {},
   "outputs": [],
   "source": [
    "coll_env.add_env('e1', {'x1':{'type':'independent'},'x2':{'type':'independent'}, 'x3':{'type':'independent'}}, 1000)\n",
    "coll_env.add_env('e2', {'x2':{'type':'independent'},'x4':{'type':'independent'}}, 1000)\n",
    "coll_env.add_env('e3', {'x3':{'type':'independent'},'x4':{'type':'independent'}}, 1000)\n",
    "coll_env.add_env('e4', {'x1':{'type':'independent'},'x5':{'type':'independent'}}, 1000)\n",
    "coll_env.add_env('e5', {'x4':{'type':'independent'}}, 1000)"
   ]
  },
  {
   "cell_type": "code",
   "execution_count": null,
   "metadata": {
    "scrolled": true
   },
   "outputs": [
    {
     "name": "stderr",
     "output_type": "stream",
     "text": [
      "100%|██████████| 10/10 [1:22:34<00:00, 541.24s/it]"
     ]
    }
   ],
   "source": [
    "params_method = {'regression_method':'HuberRegressor',\n",
    "                 'power_features': {\n",
    "                     'e1':3,\n",
    "                     'e2':2,\n",
    "                     'e3':2,\n",
    "                     'e4':2,\n",
    "                     'e5':1,\n",
    "                                     },\n",
    "                 'include_bias':False,\n",
    "                 'interactions_env': {\n",
    "                     'e1':'full',\n",
    "                     'e2':'int',\n",
    "                     'e3':'int',\n",
    "                     'e4':'int',\n",
    "                     'e5':'full'\n",
    "                                     }\n",
    "                }\n",
    "\n",
    "backfit = Backfitting(RandomForestRegression, max_n_iter=10, params_method = params_method)\n",
    "                      \n",
    "                      #{'power_features':2, 'include_bias':False})\n",
    "\n",
    "\n",
    "res = backfit.fit(coll_env)"
   ]
  },
  {
   "cell_type": "code",
   "execution_count": 59,
   "metadata": {},
   "outputs": [
    {
     "data": {
      "text/plain": [
       "array([[-1.295, -0.002, 0.182, -0.965, 0.527, 1.014, 0.431, 1.231,\n",
       "        -0.876, -0.376],\n",
       "       [1.060, 1.708, -1.718, 0.160, 1.488, -1.364, -0.325, -0.013,\n",
       "        -0.870, 1.125],\n",
       "       [0.828, 0.166, 0.683, 2.029, 1.815, 0.850, 0.455, -1.229, -0.440,\n",
       "        -0.405],\n",
       "       [0.032, 1.205, 1.854, -0.335, -0.137, 1.407, 0.130, 0.288, -1.171,\n",
       "        0.024],\n",
       "       [-1.742, 0.413, 1.048, -0.531, -0.355, 1.029, -0.703, 1.205,\n",
       "        0.047, -0.042],\n",
       "       [0.214, -1.436, 1.495, 0.663, -0.260, 0.309, -0.944, 0.457, 0.285,\n",
       "        -0.299]])"
      ]
     },
     "execution_count": 59,
     "metadata": {},
     "output_type": "execute_result"
    }
   ],
   "source": [
    "samples = np.random.normal(size=(6,10))\n",
    "samples"
   ]
  },
  {
   "cell_type": "code",
   "execution_count": 60,
   "metadata": {},
   "outputs": [
    {
     "data": {
      "text/plain": [
       "array([0.635, 4.314, -5.284, -0.168, 1.043, -2.789, 0.097, 1.173, 2.985,\n",
       "       0.358])"
      ]
     },
     "execution_count": 60,
     "metadata": {},
     "output_type": "execute_result"
    },
    {
     "data": {
      "text/plain": [
       "array([0.692, 4.333, -5.293, -0.115, 1.156, -2.772, 0.126, 1.190, 3.019,\n",
       "       0.378])"
      ]
     },
     "execution_count": 60,
     "metadata": {},
     "output_type": "execute_result"
    }
   ],
   "source": [
    "backfit.true_function_y(samples)\n",
    "backfit.output_function_merged(samples)"
   ]
  },
  {
   "cell_type": "code",
   "execution_count": 61,
   "metadata": {},
   "outputs": [
    {
     "data": {
      "text/plain": [
       "0.001750015613496921"
      ]
     },
     "execution_count": 61,
     "metadata": {},
     "output_type": "execute_result"
    }
   ],
   "source": [
    "backfit.evaluate_gap()"
   ]
  },
  {
   "cell_type": "code",
   "execution_count": 20,
   "metadata": {},
   "outputs": [
    {
     "data": {
      "text/plain": [
       "{'e1': [0.33280540306460926,\n",
       "  0.0,\n",
       "  1.2036735031237122,\n",
       "  0.15648126687706782,\n",
       "  4.975558038965806,\n",
       "  0.0016800261669473397,\n",
       "  0.008397693166116986,\n",
       "  0.0014936852701479787,\n",
       "  7.52187087579448,\n",
       "  7.28199820598116,\n",
       "  0.00541016212974181,\n",
       "  0.005099116832927655,\n",
       "  7.499012581707395,\n",
       "  0.0,\n",
       "  0.06666455591009404,\n",
       "  7.510439365922843,\n",
       "  0.0009294718200405232,\n",
       "  0.0009121527348833283,\n",
       "  0.0009347393541834633,\n",
       "  7.5589988637744545,\n",
       "  0.005154538704813489,\n",
       "  0.06658879404786805,\n",
       "  7.576547458152493,\n",
       "  0.06658213896446809,\n",
       "  0.06633307530532179,\n",
       "  0.005058597174107065,\n",
       "  0.0009469544627888613,\n",
       "  0.0,\n",
       "  7.431105235257848],\n",
       " 'e2': [234.56425480032144,\n",
       "  0.025331755354242657,\n",
       "  0.24174971410469498,\n",
       "  0.13941872472456043,\n",
       "  0.009577214741428391,\n",
       "  0.05376693759928833,\n",
       "  0.06990793328075944,\n",
       "  0.0009395157384499401,\n",
       "  0.002001275106221272,\n",
       "  0.0011655363076074241,\n",
       "  7.448231671617454,\n",
       "  0.08300769408995574,\n",
       "  0.08351369029505107,\n",
       "  0.000959653650576012,\n",
       "  7.731347112481704,\n",
       "  0.0016586430093553763,\n",
       "  7.796348621066498,\n",
       "  0.0017533479376970525,\n",
       "  0.0017142888758464301,\n",
       "  0.08401691443004344,\n",
       "  0.08292833127304368,\n",
       "  0.0017302425833786344,\n",
       "  0.08357623014867102,\n",
       "  0.0009791644588641282,\n",
       "  0.0016259054778167492,\n",
       "  0.0009385744709058274,\n",
       "  0.001644423163542439,\n",
       "  7.6060892751872835,\n",
       "  0.0825791229512659],\n",
       " 'e3': [0.905815769459766,\n",
       "  0.002971004658312151,\n",
       "  0.17613052892321648,\n",
       "  0.04059525388047652,\n",
       "  0.000210936157168158,\n",
       "  0.009448277275724929,\n",
       "  11.907486925442228,\n",
       "  0.11212486852746263,\n",
       "  0.11420790972045128,\n",
       "  0.005292835006747073,\n",
       "  0.0012972319529960506,\n",
       "  8.001059514343115,\n",
       "  0.0016673291390345573,\n",
       "  0.10895859632639825,\n",
       "  0.005110733270408055,\n",
       "  0.001657507566061815,\n",
       "  0.1093306875574913,\n",
       "  0.005212550186733217,\n",
       "  0.1090188766464764,\n",
       "  0.0016089680111274777,\n",
       "  0.0,\n",
       "  0.005206477594334161,\n",
       "  0.005191726699081235,\n",
       "  7.948428853270549,\n",
       "  7.942799585490811,\n",
       "  0.10886064665688264,\n",
       "  0.1091540633573725,\n",
       "  0.00162941162245453,\n",
       "  0.001687340580423186],\n",
       " 'e4': [0.23102861419688916,\n",
       "  0.029482040583342292,\n",
       "  0.5419034708016114,\n",
       "  0.1383466146664868,\n",
       "  3.98669234498891,\n",
       "  0.053854008003531635,\n",
       "  5.648530151527498,\n",
       "  6.15097208479401,\n",
       "  0.08659061331215043,\n",
       "  0.08438388304953122,\n",
       "  0.06667773842536928,\n",
       "  0.06660382914045977,\n",
       "  0.0,\n",
       "  0.08359995972521864,\n",
       "  6.207251032016818,\n",
       "  0.10841186973750172,\n",
       "  0.06689103775031088,\n",
       "  6.190358956377996,\n",
       "  6.206923753407309,\n",
       "  0.06662455163338922,\n",
       "  0.06622633672164628,\n",
       "  6.139825484354343,\n",
       "  0.10895146618530052,\n",
       "  0.10888415597763551,\n",
       "  0.08339733549164643,\n",
       "  6.234986760959286,\n",
       "  6.298032996003054,\n",
       "  0.10746917548029043,\n",
       "  0.10742062388799414],\n",
       " 'e5': [258.8546840231865,\n",
       "  0.5423940581616372,\n",
       "  0.0,\n",
       "  4.946487176603879,\n",
       "  3.9997723749773786,\n",
       "  11.519507486626475,\n",
       "  6.830694000036964,\n",
       "  7.672646442757743,\n",
       "  7.940789283525904,\n",
       "  7.282057158080709,\n",
       "  5.9480689416287404,\n",
       "  7.76945891542253,\n",
       "  7.896415147158647,\n",
       "  7.960744449008291,\n",
       "  7.731531280308629,\n",
       "  6.164102221161756,\n",
       "  7.626801779146546,\n",
       "  7.944276531532554,\n",
       "  7.558917548133158,\n",
       "  6.2068920069991265,\n",
       "  7.653458389632084,\n",
       "  7.7455541729729305,\n",
       "  0.0,\n",
       "  7.719949627720057,\n",
       "  7.717158851255302,\n",
       "  7.594168642145664,\n",
       "  7.836607143283688,\n",
       "  7.435420733689816,\n",
       "  6.1018821795974505]}"
      ]
     },
     "execution_count": 20,
     "metadata": {},
     "output_type": "execute_result"
    }
   ],
   "source": [
    "backfit.output_model_variation"
   ]
  },
  {
   "cell_type": "code",
   "execution_count": null,
   "metadata": {},
   "outputs": [],
   "source": []
  },
  {
   "cell_type": "code",
   "execution_count": null,
   "metadata": {},
   "outputs": [],
   "source": []
  }
 ],
 "metadata": {
  "kernelspec": {
   "display_name": "Python 3",
   "language": "python",
   "name": "python3"
  },
  "language_info": {
   "codemirror_mode": {
    "name": "ipython",
    "version": 3
   },
   "file_extension": ".py",
   "mimetype": "text/x-python",
   "name": "python",
   "nbconvert_exporter": "python",
   "pygments_lexer": "ipython3",
   "version": "3.7.6"
  }
 },
 "nbformat": 4,
 "nbformat_minor": 2
}

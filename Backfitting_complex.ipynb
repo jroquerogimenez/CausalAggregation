{
 "cells": [
  {
   "cell_type": "code",
   "execution_count": 1,
   "metadata": {},
   "outputs": [
    {
     "name": "stderr",
     "output_type": "stream",
     "text": [
      "/home/roquero/miniconda3/lib/python3.7/site-packages/matplotlib/__init__.py:886: MatplotlibDeprecationWarning: \n",
      "examples.directory is deprecated; in the future, examples will be found relative to the 'datapath' directory.\n",
      "  \"found relative to the 'datapath' directory.\".format(key))\n"
     ]
    }
   ],
   "source": [
    "import sys, os, itertools, sklearn\n",
    "sys.path.append('/home/roquero/CausalAggregation/Code')\n",
    "import pandas as pd\n",
    "import numpy as np\n",
    "import _pickle as pkl\n",
    "import matplotlib.pyplot as plt\n",
    "import seaborn as sns\n",
    "\n",
    "from sklearn import linear_model\n",
    "from sklearn.linear_model import LassoCV, Lasso\n",
    "from sklearn import datasets\n",
    "from sklearn.metrics import auc\n",
    "from scipy.interpolate import UnivariateSpline\n",
    "from IPython.core.interactiveshell import InteractiveShell\n",
    "InteractiveShell.ast_node_interactivity = \"all\"\n",
    "%reload_ext autoreload\n",
    "%autoreload 2\n",
    "np.set_printoptions(suppress=True)\n",
    "np.set_printoptions(formatter={'float': lambda x: \"{0:0.3f}\".format(x)}, linewidth=100000)\n",
    "from backfitting import Backfitting\n",
    "from boosting import Boosting\n",
    "from base_environment import BaseEnvironment\n",
    "from collection_environment import CollectionEnvironment\n",
    "from regression_method import PolynomialRegression, RandomForestRegression\n",
    "from sklearn.linear_model import LinearRegression, Ridge\n",
    "from sklearn.ensemble import RandomForestRegressor\n",
    "from sklearn.preprocessing import PolynomialFeatures\n"
   ]
  },
  {
   "cell_type": "code",
   "execution_count": 2,
   "metadata": {},
   "outputs": [],
   "source": [
    "ik_h, se_h = [], (lambda input_samples:input_samples)\n",
    "ik_x1, se_x1 = ['h'], (lambda input_samples: 2*input_samples[0] + input_samples[1])\n",
    "ik_x2, se_x2 = ['h', 'x1'], (lambda input_samples: input_samples[0] + input_samples[1] + input_samples[2])\n",
    "ik_x3, se_x3 = ['x1', 'x2'], (lambda input_samples: -input_samples[0] * 2*input_samples[1] + input_samples[2])\n",
    "#ik_x4, se_x4 = ['x1', 'x3'], (lambda input_samples: input_samples[0] + input_samples[1] + input_samples[2])\n",
    "ik_x4, se_x4 = ['x1', 'x3'], (lambda input_samples: np.log(1+np.abs(input_samples[0])) + input_samples[1] + input_samples[2])\n",
    "ik_y, se_y = ['h','x1','x2','x3','x4'], (lambda input_samples:\n",
    "                                         input_samples[0] \n",
    "                                         + input_samples[1]**2\n",
    "                                         + 0.5*input_samples[1]*input_samples[2]*input_samples[3]\n",
    "                                         - 0.5*input_samples[3]*input_samples[4]\n",
    "                                         - input_samples[2]*input_samples[4] + input_samples[5])\n",
    "ik_x5, se_x5 = ['x2', 'x4', 'y'], (lambda input_samples: 2*input_samples[0] + input_samples[1] - input_samples[2] + input_samples[3])"
   ]
  },
  {
   "cell_type": "code",
   "execution_count": 3,
   "metadata": {},
   "outputs": [],
   "source": [
    "fh = {'input_keys':ik_h, 'structural_eq': se_h}\n",
    "f1 = {'input_keys':ik_x1, 'structural_eq': se_x1}\n",
    "f2 = {'input_keys':ik_x2, 'structural_eq': se_x2}\n",
    "f3 = {'input_keys':ik_x3, 'structural_eq': se_x3}\n",
    "f4 = {'input_keys':ik_x4, 'structural_eq': se_x4}\n",
    "f5 = {'input_keys':ik_x5, 'structural_eq': se_x5}\n",
    "fy = {'input_keys':ik_y, 'structural_eq': se_y}\n",
    "\n",
    "sh = lambda n_samples: np.random.normal(size=n_samples)\n",
    "s1 = lambda n_samples: np.random.normal(size=n_samples)\n",
    "s2 = lambda n_samples: np.random.normal(size=n_samples)\n",
    "s3 = lambda n_samples: np.random.normal(size=n_samples)\n",
    "s4 = lambda n_samples: np.random.normal(size=n_samples)\n",
    "s5 = lambda n_samples: np.random.normal(size=n_samples)\n",
    "sy = lambda n_samples: np.random.normal(size=n_samples)\n",
    "\n",
    "topo_order = ['h','x1','x2','x3','x4','y','x5']\n",
    "y_key = 'y'\n",
    "x_key = ['x1','x2','x3','x4','x5']\n",
    "\n",
    "structural_equation_dict = {'x1':f1, 'x2':f2, 'x3':f3, 'y':fy, 'x4':f4, 'x5':f5, 'h':fh}\n",
    "disturbance_sampler_dict = {'x1':s1, 'x2':s2, 'x3':s3, 'y':sy, 'x4':s4, 'x5':s5, 'h':sh}\n",
    "\n",
    "base = BaseEnvironment(structural_equation_dict, disturbance_sampler_dict, topo_order, y_key, x_key)\n",
    "coll_env = CollectionEnvironment(base)"
   ]
  },
  {
   "cell_type": "code",
   "execution_count": 4,
   "metadata": {},
   "outputs": [],
   "source": [
    "coll_env.add_env('e1', {'x1':{'type':'independent'},'x2':{'type':'independent'}, 'x3':{'type':'independent'}}, 10000)\n",
    "coll_env.add_env('e2', {'x2':{'type':'independent'},'x4':{'type':'independent'}}, 10000)\n",
    "coll_env.add_env('e3', {'x3':{'type':'independent'},'x4':{'type':'independent'}}, 10000)\n",
    "coll_env.add_env('e4', {'x1':{'type':'independent'},'x5':{'type':'independent'}}, 10000)\n",
    "#coll_env.add_env('e5', {'x4':{'type':'independent'}}, 100000)"
   ]
  },
  {
   "cell_type": "markdown",
   "metadata": {},
   "source": []
  },
  {
   "cell_type": "raw",
   "metadata": {},
   "source": [
    "coll_env.env['e1'].data['X'].shape\n",
    "coll_env.env['e1'].data['X'][:,:20]\n",
    "{np.std(coll_env.env['e1'].samples_dict[var_key]) for var_key in coll_env.env['e1'].samples_dict.keys()}\n",
    "coll_env.env['e1'].disturbance_samples_dict['x1']\n",
    "coll_env.env['e1'].disturbance_samples_dict['h']\n",
    "np.std(coll_env.env['e1'].disturbance_samples_dict['x1'])\n",
    "np.std(coll_env.env['e1'].disturbance_samples_dict['h'])"
   ]
  },
  {
   "cell_type": "raw",
   "metadata": {},
   "source": [
    "coll_env.env['e4'].data['X'].shape\n",
    "coll_env.env['e4'].data['X'][:,:20]\n",
    "{np.std(coll_env.env['e4'].samples_dict[var_key]) for var_key in coll_env.env['e4'].samples_dict.keys()}\n",
    "\n",
    "coll_env.env['e4'].disturbance_samples_dict['x1']\n",
    "coll_env.env['e4'].disturbance_samples_dict['h']\n",
    "np.std(coll_env.env['e4'].disturbance_samples_dict['x1'])\n",
    "np.std(coll_env.env['e4'].disturbance_samples_dict['h'])"
   ]
  },
  {
   "cell_type": "raw",
   "metadata": {},
   "source": [
    "fig, ax = plt.subplots(figsize=(16,16))\n",
    "for env_key, env in coll_env.env.items():\n",
    "    _ = ax.scatter(env.data['X'][2,:1000],env.data['Y'][:1000], s=1, label=env_key)\n",
    "_ = ax.legend()"
   ]
  },
  {
   "cell_type": "raw",
   "metadata": {},
   "source": []
  },
  {
   "cell_type": "code",
   "execution_count": 5,
   "metadata": {
    "scrolled": false
   },
   "outputs": [
    {
     "name": "stderr",
     "output_type": "stream",
     "text": [
      "100%|██████████| 20/20 [00:18<00:00,  1.08it/s]\n"
     ]
    }
   ],
   "source": [
    "params_method = {'regression_method':'HuberRegressor',\n",
    "                 'power_features': {\n",
    "                     'e1':3,\n",
    "                     'e2':2,\n",
    "                     'e3':2,\n",
    "                     'e4':2,\n",
    "                     'e5':2,\n",
    "                                     },\n",
    "                 'include_bias':{\n",
    "                     'e1':True,\n",
    "                     'e2':False,\n",
    "                     'e3':False,\n",
    "                     'e4':False,\n",
    "                     'e5':False,\n",
    "                                     },\n",
    "                 'interactions_env': {\n",
    "                     'e1':'full',\n",
    "                     'e2':'int',\n",
    "                     'e3':'int',\n",
    "                     'e4':'int',\n",
    "                     'e5':'full',\n",
    "                                     },\n",
    "                 'n_estimators':3\n",
    "                }\n",
    "\n",
    "backfit = Backfitting(PolynomialRegression, 'backfitting', max_n_iter=20, gap_convergence=1e-5, params_method = params_method)\n",
    "                      \n",
    "                      #{'power_features':2, 'include_bias':False})\n",
    "\n",
    "\n",
    "res = backfit.fit(coll_env)"
   ]
  },
  {
   "cell_type": "code",
   "execution_count": 6,
   "metadata": {},
   "outputs": [
    {
     "data": {
      "text/plain": [
       "{'e1': [540.6913030655243,\n",
       "  11.05532561706411,\n",
       "  19.560678852394705,\n",
       "  2.489866766881125,\n",
       "  0.018454097631234186,\n",
       "  0.7434395331476545,\n",
       "  0.9039601968649164,\n",
       "  0.3385331956025475,\n",
       "  0.033986002150878825,\n",
       "  0.011829855543568791,\n",
       "  0.09359776096575761,\n",
       "  0.0051722643469532216,\n",
       "  0.00470665255974166,\n",
       "  0.004688137451515884,\n",
       "  6.525983589782574e-05,\n",
       "  0.004761021062468162,\n",
       "  0.004676310230948856,\n",
       "  2.20235032128949e-05,\n",
       "  0.00022385638295646087],\n",
       " 'e2': [10.089953549499652,\n",
       "  2.016272582766271,\n",
       "  0.1998656049569829,\n",
       "  0.30947539058156665,\n",
       "  0.11992972101421678,\n",
       "  0.15394651134325235,\n",
       "  0.19843288747732696,\n",
       "  0.12432212309227832,\n",
       "  0.12540798268632017,\n",
       "  0.14015502400381888,\n",
       "  0.09411381388157218,\n",
       "  0.09308555738023865,\n",
       "  0.09240946086769103,\n",
       "  0.09323304198406664,\n",
       "  0.09319434474399681,\n",
       "  0.13923069437927676,\n",
       "  0.09356073371978557,\n",
       "  0.13921708691605736,\n",
       "  0.09341586874268842],\n",
       " 'e3': [24.799173838330024,\n",
       "  11.316286140556619,\n",
       "  0.4750046304766111,\n",
       "  0.0,\n",
       "  0.012889064982421965,\n",
       "  0.4992164652378295,\n",
       "  0.3373467286205046,\n",
       "  0.012444198693903117,\n",
       "  0.007977638625464372,\n",
       "  2.733572024274777e-05,\n",
       "  0.00018672648946486067,\n",
       "  0.0048112370210203845,\n",
       "  0.0,\n",
       "  1.096972580466123e-05,\n",
       "  0.09273991726397413,\n",
       "  0.09271680937649689,\n",
       "  0.09345437820616166,\n",
       "  1.962480908623407e-07,\n",
       "  0.004681303419044032],\n",
       " 'e4': [0.1867178173805104,\n",
       "  1.094453407804506,\n",
       "  0.6397999962670282,\n",
       "  0.15356596857373558,\n",
       "  0.1562140749250803,\n",
       "  0.02633901176724862,\n",
       "  0.005662818161732284,\n",
       "  0.006104580768494889,\n",
       "  0.12261167762809123,\n",
       "  0.0048914723578409244,\n",
       "  0.13989245191409372,\n",
       "  0.13928171814561005,\n",
       "  0.13944844332338518,\n",
       "  0.13949772219240866,\n",
       "  0.004619144356643579,\n",
       "  0.004708068076103257,\n",
       "  0.00460410218598694,\n",
       "  0.004654125121978385,\n",
       "  0.1391485859818457]}"
      ]
     },
     "execution_count": 6,
     "metadata": {},
     "output_type": "execute_result"
    }
   ],
   "source": [
    "backfit.output_model_variation"
   ]
  },
  {
   "cell_type": "code",
   "execution_count": 7,
   "metadata": {},
   "outputs": [
    {
     "data": {
      "text/plain": [
       "array([[-0.230, 0.540, -0.440, -1.510, -0.745, -1.032, 0.635, -0.344, 0.981, -1.106],\n",
       "       [-1.169, 0.226, -0.445, 1.308, 0.846, 1.037, -0.669, 0.412, 3.159, 0.789],\n",
       "       [-0.263, 0.766, -1.214, -0.092, -0.101, -0.285, 1.082, 0.145, 1.445, 0.194],\n",
       "       [1.417, 0.307, 0.375, -0.342, -1.212, -1.226, -0.330, 0.167, 0.732, -0.202],\n",
       "       [0.716, -1.314, 0.244, 0.187, 0.221, -0.766, -0.501, 1.012, 0.061, -0.298],\n",
       "       [0.448, -0.238, -0.461, -0.886, -0.082, 0.470, 0.618, -0.287, -1.430, 0.756]])"
      ]
     },
     "execution_count": 7,
     "metadata": {},
     "output_type": "execute_result"
    }
   ],
   "source": [
    "samples = np.random.normal(size=(6,10))\n",
    "samples"
   ]
  },
  {
   "cell_type": "code",
   "execution_count": 8,
   "metadata": {
    "scrolled": true
   },
   "outputs": [
    {
     "data": {
      "text/plain": [
       "array([1.533, 0.416, 0.080, 0.247, 2.546, 2.242, 10.391, 1.042, 3.229, 1.067])"
      ]
     },
     "execution_count": 8,
     "metadata": {},
     "output_type": "execute_result"
    },
    {
     "data": {
      "text/plain": [
       "array([1.771, 0.681, 0.380, 0.531, 2.786, 2.750, 10.690, 1.397, 3.290, 1.145])"
      ]
     },
     "execution_count": 8,
     "metadata": {},
     "output_type": "execute_result"
    }
   ],
   "source": [
    "backfit.true_function_y(backfit.x_train_full[:,:10])\n",
    "backfit.output_function_merged(backfit.x_train_full[:,:10])"
   ]
  },
  {
   "cell_type": "code",
   "execution_count": 9,
   "metadata": {
    "scrolled": true
   },
   "outputs": [
    {
     "data": {
      "text/plain": [
       "array([1.861, 0.151, 0.469, 2.803, 1.551, 2.316, 0.131, 0.027, 0.359, 1.319])"
      ]
     },
     "execution_count": 9,
     "metadata": {},
     "output_type": "execute_result"
    },
    {
     "data": {
      "text/plain": [
       "array([2.000, 0.326, 0.619, 3.140, 1.863, 2.664, 0.309, 0.331, -0.291, 1.682])"
      ]
     },
     "execution_count": 9,
     "metadata": {},
     "output_type": "execute_result"
    }
   ],
   "source": [
    "backfit.true_function_y(samples)\n",
    "backfit.output_function_merged(samples)"
   ]
  },
  {
   "cell_type": "code",
   "execution_count": 10,
   "metadata": {},
   "outputs": [
    {
     "data": {
      "text/plain": [
       "0.1084317900147258"
      ]
     },
     "execution_count": 10,
     "metadata": {},
     "output_type": "execute_result"
    }
   ],
   "source": [
    "backfit.evaluate_gap(samples)"
   ]
  },
  {
   "cell_type": "code",
   "execution_count": 11,
   "metadata": {
    "scrolled": true
   },
   "outputs": [
    {
     "data": {
      "image/png": "[encoded data removed]",
      "text/plain": [
       "<Figure size 432x288 with 1 Axes>"
      ]
     },
     "metadata": {
      "needs_background": "light"
     },
     "output_type": "display_data"
    }
   ],
   "source": [
    " _ = plt.plot(backfit.output_model_variation['e2'])"
   ]
  },
  {
   "cell_type": "code",
   "execution_count": null,
   "metadata": {},
   "outputs": [],
   "source": []
  },
  {
   "cell_type": "code",
   "execution_count": 12,
   "metadata": {},
   "outputs": [
    {
     "name": "stdout",
     "output_type": "stream",
     "text": [
      "[-0.952]\n",
      "['x2^0x4^0']\n",
      "[-0.037 0.030 -0.018 1.007 -0.076 -0.042 0.005 -0.030 -0.061 0.031 -0.013 -0.003 0.005 0.449 -0.020 -0.007 -0.011 -0.006 0.002]\n",
      "['x1^0', 'x2^0', 'x3^0', 'x1^2', 'x1^0x2^0', 'x1^0x3^0', 'x2^2', 'x2^0x3^0', 'x3^2', 'x1^3', 'x1^2x2^0', 'x1^2x3^0', 'x1^0x2^2', 'x1^0x2^0x3^0', 'x1^0x3^2', 'x2^3', 'x2^2x3^0', 'x2^0x3^2', 'x3^3']\n",
      "[0.029]\n",
      "['x1^0x5^0']\n",
      "[-0.440]\n",
      "['x3^0x4^0']\n"
     ]
    }
   ],
   "source": [
    "for values in backfit.output_model_dict.values():\n",
    "    print(values.coef_())\n",
    "    print(values.get_feature_names())"
   ]
  },
  {
   "cell_type": "code",
   "execution_count": null,
   "metadata": {},
   "outputs": [],
   "source": []
  }
 ],
 "metadata": {
  "kernelspec": {
   "display_name": "Python 3",
   "language": "python",
   "name": "python3"
  },
  "language_info": {
   "codemirror_mode": {
    "name": "ipython",
    "version": 3
   },
   "file_extension": ".py",
   "mimetype": "text/x-python",
   "name": "python",
   "nbconvert_exporter": "python",
   "pygments_lexer": "ipython3",
   "version": "3.7.6"
  }
 },
 "nbformat": 4,
 "nbformat_minor": 2
}

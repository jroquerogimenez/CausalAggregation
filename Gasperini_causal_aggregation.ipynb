{
 "cells": [
  {
   "cell_type": "code",
   "execution_count": 1,
   "metadata": {},
   "outputs": [],
   "source": [
    "import numpy as np\n",
    "import pandas as pd\n",
    "pd.options.display.max_rows = 999\n",
    "import csv\n",
    "import gzip\n",
    "import os\n",
    "import scipy.io\n",
    "import matplotlib.pyplot as plt\n",
    "from IPython.core.interactiveshell import InteractiveShell\n",
    "InteractiveShell.ast_node_interactivity = \"all\"\n",
    "%reload_ext autoreload\n",
    "%autoreload 2\n",
    "np.set_printoptions(suppress=True)\n",
    "import sys\n",
    "sys.path.append('/home/roquero/CausalAggregation/Code')\n",
    "from generateEnvironment import GenerateEnvironment, generate_constraints\n",
    "from gmm_estimator import SolveProblem\n",
    "from sklearn.linear_model import LinearRegression\n",
    "import statsmodels.api as sm"
   ]
  },
  {
   "cell_type": "code",
   "execution_count": 2,
   "metadata": {},
   "outputs": [],
   "source": [
    "response = pd.read_pickle('response.pkl')\n",
    "table_crispr = pd.read_pickle('table_crispr.pkl')\n",
    "table_crispr = table_crispr.join(response, on='cell')\n",
    "\n",
    "table_crispr = table_crispr[(table_crispr['umi_count']>=0) & (table_crispr['PRKCB_TSS']==0)]\n",
    "table_crispr.loc[:,'umi_count'] = table_crispr['umi_count'].transform(lambda u : np.log(1+u))\n",
    "table_crispr = table_crispr.sample(frac=1).reset_index(drop=True)\n",
    "\n",
    "\n",
    "vars_list = ['chr16.1822_top_two','chr16.1856_top_two','chr16.1857_top_two','chr16.1863_second_two','chr16.1863_top_two','chr16.1865_top_two','chr16.1866_top_two','chr16.1866_second_two','chr16.1867_top_two','chr16.1897_top_two']\n",
    "data = table_crispr[vars_list+['umi_count', 'ENSG00000166501']]\n",
    "data -= data.mean()"
   ]
  },
  {
   "cell_type": "code",
   "execution_count": 3,
   "metadata": {},
   "outputs": [
    {
     "data": {
      "text/html": [
       "<div>\n",
       "<style scoped>\n",
       "    .dataframe tbody tr th:only-of-type {\n",
       "        vertical-align: middle;\n",
       "    }\n",
       "\n",
       "    .dataframe tbody tr th {\n",
       "        vertical-align: top;\n",
       "    }\n",
       "\n",
       "    .dataframe thead th {\n",
       "        text-align: right;\n",
       "    }\n",
       "</style>\n",
       "<table border=\"1\" class=\"dataframe\">\n",
       "  <thead>\n",
       "    <tr style=\"text-align: right;\">\n",
       "      <th></th>\n",
       "      <th>chr16.1822_top_two</th>\n",
       "      <th>chr16.1856_top_two</th>\n",
       "      <th>chr16.1857_top_two</th>\n",
       "      <th>chr16.1863_second_two</th>\n",
       "      <th>chr16.1863_top_two</th>\n",
       "      <th>chr16.1865_top_two</th>\n",
       "      <th>chr16.1866_top_two</th>\n",
       "      <th>chr16.1866_second_two</th>\n",
       "      <th>chr16.1867_top_two</th>\n",
       "      <th>chr16.1897_top_two</th>\n",
       "      <th>umi_count</th>\n",
       "      <th>ENSG00000166501</th>\n",
       "    </tr>\n",
       "  </thead>\n",
       "  <tbody>\n",
       "    <tr>\n",
       "      <th>0</th>\n",
       "      <td>-0.005056</td>\n",
       "      <td>-0.004601</td>\n",
       "      <td>-0.002996</td>\n",
       "      <td>-0.005047</td>\n",
       "      <td>-0.005247</td>\n",
       "      <td>-0.007009</td>\n",
       "      <td>-0.006084</td>\n",
       "      <td>-0.003563</td>\n",
       "      <td>-0.004097</td>\n",
       "      <td>-0.004033</td>\n",
       "      <td>0.221130</td>\n",
       "      <td>0.579404</td>\n",
       "    </tr>\n",
       "    <tr>\n",
       "      <th>1</th>\n",
       "      <td>-0.005056</td>\n",
       "      <td>-0.004601</td>\n",
       "      <td>-0.002996</td>\n",
       "      <td>-0.005047</td>\n",
       "      <td>-0.005247</td>\n",
       "      <td>-0.007009</td>\n",
       "      <td>-0.006084</td>\n",
       "      <td>-0.003563</td>\n",
       "      <td>-0.004097</td>\n",
       "      <td>-0.004033</td>\n",
       "      <td>-0.419546</td>\n",
       "      <td>-2.420596</td>\n",
       "    </tr>\n",
       "    <tr>\n",
       "      <th>2</th>\n",
       "      <td>-0.005056</td>\n",
       "      <td>-0.004601</td>\n",
       "      <td>-0.002996</td>\n",
       "      <td>-0.005047</td>\n",
       "      <td>-0.005247</td>\n",
       "      <td>-0.007009</td>\n",
       "      <td>-0.006084</td>\n",
       "      <td>-0.003563</td>\n",
       "      <td>-0.004097</td>\n",
       "      <td>-0.004033</td>\n",
       "      <td>-0.559947</td>\n",
       "      <td>-0.420596</td>\n",
       "    </tr>\n",
       "    <tr>\n",
       "      <th>3</th>\n",
       "      <td>-0.005056</td>\n",
       "      <td>-0.004601</td>\n",
       "      <td>-0.002996</td>\n",
       "      <td>-0.005047</td>\n",
       "      <td>-0.005247</td>\n",
       "      <td>-0.007009</td>\n",
       "      <td>-0.006084</td>\n",
       "      <td>-0.003563</td>\n",
       "      <td>-0.004097</td>\n",
       "      <td>-0.004033</td>\n",
       "      <td>0.721804</td>\n",
       "      <td>-1.420596</td>\n",
       "    </tr>\n",
       "    <tr>\n",
       "      <th>4</th>\n",
       "      <td>-0.005056</td>\n",
       "      <td>-0.004601</td>\n",
       "      <td>-0.002996</td>\n",
       "      <td>-0.005047</td>\n",
       "      <td>-0.005247</td>\n",
       "      <td>-0.007009</td>\n",
       "      <td>-0.006084</td>\n",
       "      <td>-0.003563</td>\n",
       "      <td>-0.004097</td>\n",
       "      <td>-0.004033</td>\n",
       "      <td>-0.628415</td>\n",
       "      <td>5.579404</td>\n",
       "    </tr>\n",
       "  </tbody>\n",
       "</table>\n",
       "</div>"
      ],
      "text/plain": [
       "   chr16.1822_top_two  chr16.1856_top_two  chr16.1857_top_two  \\\n",
       "0           -0.005056           -0.004601           -0.002996   \n",
       "1           -0.005056           -0.004601           -0.002996   \n",
       "2           -0.005056           -0.004601           -0.002996   \n",
       "3           -0.005056           -0.004601           -0.002996   \n",
       "4           -0.005056           -0.004601           -0.002996   \n",
       "\n",
       "   chr16.1863_second_two  chr16.1863_top_two  chr16.1865_top_two  \\\n",
       "0              -0.005047           -0.005247           -0.007009   \n",
       "1              -0.005047           -0.005247           -0.007009   \n",
       "2              -0.005047           -0.005247           -0.007009   \n",
       "3              -0.005047           -0.005247           -0.007009   \n",
       "4              -0.005047           -0.005247           -0.007009   \n",
       "\n",
       "   chr16.1866_top_two  chr16.1866_second_two  chr16.1867_top_two  \\\n",
       "0           -0.006084              -0.003563           -0.004097   \n",
       "1           -0.006084              -0.003563           -0.004097   \n",
       "2           -0.006084              -0.003563           -0.004097   \n",
       "3           -0.006084              -0.003563           -0.004097   \n",
       "4           -0.006084              -0.003563           -0.004097   \n",
       "\n",
       "   chr16.1897_top_two  umi_count  ENSG00000166501  \n",
       "0           -0.004033   0.221130         0.579404  \n",
       "1           -0.004033  -0.419546        -2.420596  \n",
       "2           -0.004033  -0.559947        -0.420596  \n",
       "3           -0.004033   0.721804        -1.420596  \n",
       "4           -0.004033  -0.628415         5.579404  "
      ]
     },
     "execution_count": 3,
     "metadata": {},
     "output_type": "execute_result"
    }
   ],
   "source": [
    "data.head()"
   ]
  },
  {
   "cell_type": "code",
   "execution_count": 4,
   "metadata": {},
   "outputs": [],
   "source": [
    "data_env_1 = data.loc[:table_crispr.shape[0]//3].copy()\n",
    "confounder_env_1 = np.random.binomial(1, 0.5, size=data_env_1.shape[0])\n",
    "data_env_1.loc[:,'chr16.1857_top_two'] += confounder_env_1 *np.random.normal()\n",
    "data_env_1.loc[:,'chr16.1863_second_two'] += confounder_env_1 *np.random.normal()\n",
    "data_env_1.loc[:,'chr16.1863_top_two'] += confounder_env_1 *np.random.normal()\n",
    "data_env_1.loc[:,'chr16.1865_top_two'] += confounder_env_1 *np.random.normal()\n",
    "data_env_1.loc[:,'chr16.1866_top_two'] += confounder_env_1 *np.random.normal()\n",
    "data_env_1.loc[:,'chr16.1866_second_two'] += confounder_env_1*np.random.normal()\n",
    "data_env_1.loc[:,'chr16.1867_top_two'] += confounder_env_1*np.random.normal()\n",
    "data_env_1.loc[:,'chr16.1897_top_two'] += confounder_env_1*np.random.normal()\n",
    "data_env_1.loc[:,'ENSG00000166501'] += (0.5 + confounder_env_1)*3\n",
    "data_env_1 = data_env_1 - data_env_1.mean()"
   ]
  },
  {
   "cell_type": "code",
   "execution_count": 5,
   "metadata": {},
   "outputs": [],
   "source": [
    "data_env_2 = data.loc[(table_crispr.shape[0]//3+1):(table_crispr.shape[0]//3)*2].copy()\n",
    "confounder_env_2 = np.random.binomial(1, 0.5, size=data_env_2.shape[0])\n",
    "data_env_2.loc[:,'chr16.1822_top_two'] += confounder_env_2 *np.random.normal()\n",
    "data_env_2.loc[:,'chr16.1856_top_two'] += confounder_env_2 *np.random.normal()\n",
    "data_env_2.loc[:,'chr16.1865_top_two'] += confounder_env_2 *np.random.normal()\n",
    "data_env_2.loc[:,'chr16.1866_top_two'] += confounder_env_2 *np.random.normal()\n",
    "data_env_2.loc[:,'chr16.1866_second_two'] += confounder_env_2*np.random.normal()\n",
    "data_env_2.loc[:,'chr16.1867_top_two'] += confounder_env_2*np.random.normal()\n",
    "data_env_2.loc[:,'chr16.1897_top_two'] += confounder_env_2*np.random.normal()\n",
    "data_env_2.loc[:,'ENSG00000166501'] += (0.5 + confounder_env_2)*3\n",
    "data_env_2 = data_env_2 - data_env_2.mean()"
   ]
  },
  {
   "cell_type": "code",
   "execution_count": 6,
   "metadata": {},
   "outputs": [],
   "source": [
    "data_env_3 = data.loc[(table_crispr.shape[0]//3)*2 +1:].copy()\n",
    "confounder_env_3 = np.random.binomial(1, 0.5, size=data_env_3.shape[0])\n",
    "data_env_3.loc[:,'chr16.1822_top_two'] += confounder_env_3 *np.random.normal()\n",
    "data_env_3.loc[:,'chr16.1856_top_two'] += confounder_env_3 *np.random.normal()\n",
    "data_env_3.loc[:,'chr16.1857_top_two'] += confounder_env_3 *np.random.normal()\n",
    "data_env_3.loc[:,'chr16.1863_second_two'] += confounder_env_3 *np.random.normal()\n",
    "data_env_3.loc[:,'chr16.1863_top_two'] += confounder_env_3 *np.random.normal()\n",
    "data_env_3.loc[:,'ENSG00000166501'] += (0.5 + confounder_env_3)*3\n",
    "data_env_3 = data_env_3 - data_env_3.mean()"
   ]
  },
  {
   "cell_type": "code",
   "execution_count": 7,
   "metadata": {},
   "outputs": [],
   "source": [
    "environment_1 = {\n",
    "    'dataset':data_env_1.values.T.astype(np.float_),\n",
    "    'dict_interventions':{i:{'type':'parental', 'parental_index':[10]} for i in [0,1]},\n",
    "    'x_indices':np.arange(10),\n",
    "    'y_index':11,\n",
    "    'n_samples':data_env_1.values.shape[0],\n",
    "}\n",
    "generate_constraints(environment_1)\n",
    "environment_2 = {\n",
    "    'dataset':data_env_2.values.T.astype(np.float_),\n",
    "    'dict_interventions':{i:{'type':'parental', 'parental_index':[10]} for i in [2,3,4]},\n",
    "    'x_indices':np.arange(10),\n",
    "    'y_index':11,\n",
    "    'n_samples':data_env_2.values.shape[0],\n",
    "}\n",
    "generate_constraints(environment_2)\n",
    "environment_3 = {\n",
    "    'dataset':data_env_3.values.T.astype(np.float_),\n",
    "    'dict_interventions':{i:{'type':'parental', 'parental_index':[10]} for i in [5,6,7,8,9]},\n",
    "    'x_indices':np.arange(10),\n",
    "    'y_index':11,\n",
    "    'n_samples':data_env_3.values.shape[0],\n",
    "}\n",
    "generate_constraints(environment_3)"
   ]
  },
  {
   "cell_type": "code",
   "execution_count": 8,
   "metadata": {},
   "outputs": [],
   "source": [
    "solver = SolveProblem(np.eye(12), np.arange(10), 11)"
   ]
  },
  {
   "cell_type": "code",
   "execution_count": 15,
   "metadata": {},
   "outputs": [
    {
     "data": {
      "text/plain": [
       "array([0.61900813, 0.65148212, 0.90359849, 0.70311555, 0.67442088,\n",
       "       0.54491919, 0.57035087, 0.78093399, 0.7014597 , 0.68181426])"
      ]
     },
     "execution_count": 15,
     "metadata": {},
     "output_type": "execute_result"
    },
    {
     "data": {
      "text/plain": [
       "array([ 0.12491778,  0.04011653, -0.10700482,  0.29692784, -0.00232069,\n",
       "       -0.37530669, -1.29022543, -1.63437355, -0.52958351,  0.04422914])"
      ]
     },
     "execution_count": 15,
     "metadata": {},
     "output_type": "execute_result"
    },
    {
     "data": {
      "text/plain": [
       "array([[-0.18458628, -0.28562453, -0.55880406, -0.05462993, -0.33953113,\n",
       "        -0.64776629, -1.57540086, -2.02484055, -0.88031336, -0.29667799],\n",
       "       [ 0.43442185,  0.36585759,  0.34479442,  0.64848562,  0.33488975,\n",
       "        -0.1028471 , -1.00504999, -1.24390655, -0.17885366,  0.38513626]])"
      ]
     },
     "execution_count": 15,
     "metadata": {},
     "output_type": "execute_result"
    }
   ],
   "source": [
    "beta_GMM, aCov = solver.compute_beta_GMM([environment_1, environment_2, environment_3])\n",
    "\n",
    "CI = solver.compute_CI(beta_GMM, aCov, table_crispr.shape[0], 0.05)\n",
    "CI[1,:]-CI[0,:]\n",
    "beta_GMM\n",
    "CI"
   ]
  },
  {
   "cell_type": "code",
   "execution_count": 14,
   "metadata": {},
   "outputs": [
    {
     "name": "stdout",
     "output_type": "stream",
     "text": [
      "                                 OLS Regression Results                                \n",
      "=======================================================================================\n",
      "Dep. Variable:        ENSG00000166501   R-squared (uncentered):                   0.069\n",
      "Model:                            OLS   Adj. R-squared (uncentered):              0.069\n",
      "Method:                 Least Squares   F-statistic:                              1386.\n",
      "Date:                Wed, 03 Mar 2021   Prob (F-statistic):                        0.00\n",
      "Time:                        07:25:28   Log-Likelihood:                     -4.8364e+05\n",
      "No. Observations:              204296   AIC:                                  9.673e+05\n",
      "Df Residuals:                  204285   BIC:                                  9.674e+05\n",
      "Df Model:                          11                                                  \n",
      "Covariance Type:            nonrobust                                                  \n",
      "=========================================================================================\n",
      "                            coef    std err          t      P>|t|      [0.025      0.975]\n",
      "-----------------------------------------------------------------------------------------\n",
      "chr16.1822_top_two       -0.0216      0.081     -0.268      0.788      -0.180       0.136\n",
      "chr16.1856_top_two        0.1467      0.084      1.737      0.082      -0.019       0.312\n",
      "chr16.1857_top_two        0.2772      0.105      2.652      0.008       0.072       0.482\n",
      "chr16.1863_second_two     0.1315      0.081      1.630      0.103      -0.027       0.290\n",
      "chr16.1863_top_two        0.0657      0.079      0.831      0.406      -0.089       0.221\n",
      "chr16.1865_top_two       -0.3128      0.068     -4.567      0.000      -0.447      -0.179\n",
      "chr16.1866_top_two       -1.4102      0.073    -19.193      0.000      -1.554      -1.266\n",
      "chr16.1866_second_two    -1.3299      0.096    -13.871      0.000      -1.518      -1.142\n",
      "chr16.1867_top_two       -0.5745      0.089     -6.422      0.000      -0.750      -0.399\n",
      "chr16.1897_top_two       -0.0688      0.090     -0.763      0.445      -0.245       0.108\n",
      "umi_count                 0.7657      0.006    121.395      0.000       0.753       0.778\n",
      "==============================================================================\n",
      "Omnibus:                   119078.818   Durbin-Watson:                   2.002\n",
      "Prob(Omnibus):                  0.000   Jarque-Bera (JB):          3438832.183\n",
      "Skew:                           2.291   Prob(JB):                         0.00\n",
      "Kurtosis:                      22.570   Cond. No.                         16.6\n",
      "==============================================================================\n",
      "\n",
      "Notes:\n",
      "[1] R² is computed without centering (uncentered) since the model does not contain a constant.\n",
      "[2] Standard Errors assume that the covariance matrix of the errors is correctly specified.\n"
     ]
    }
   ],
   "source": [
    "OLS_full_uncorrupted = sm.OLS(data.loc[:,'ENSG00000166501'],data.loc[:, data.columns!='ENSG00000166501']).fit()\n",
    "print(OLS_full_uncorrupted.summary())"
   ]
  },
  {
   "cell_type": "code",
   "execution_count": null,
   "metadata": {},
   "outputs": [],
   "source": []
  },
  {
   "cell_type": "code",
   "execution_count": 11,
   "metadata": {},
   "outputs": [
    {
     "data": {
      "text/plain": [
       "chr16.1822_top_two       0.105423\n",
       "chr16.1856_top_two       0.012266\n",
       "chr16.1857_top_two       0.546642\n",
       "chr16.1863_second_two    0.095091\n",
       "chr16.1863_top_two       0.038776\n",
       "chr16.1865_top_two      -0.379624\n",
       "chr16.1866_top_two      -1.482662\n",
       "chr16.1866_second_two   -1.083722\n",
       "chr16.1867_top_two      -0.632803\n",
       "chr16.1897_top_two      -0.466301\n",
       "umi_count                0.766263\n",
       "dtype: float64"
      ]
     },
     "execution_count": 11,
     "metadata": {},
     "output_type": "execute_result"
    },
    {
     "data": {
      "text/plain": [
       "chr16.1822_top_two       0.106505\n",
       "chr16.1856_top_two       0.716952\n",
       "chr16.1857_top_two       0.157346\n",
       "chr16.1863_second_two    0.237391\n",
       "chr16.1863_top_two      -0.103712\n",
       "chr16.1865_top_two      -0.565238\n",
       "chr16.1866_top_two      -0.976510\n",
       "chr16.1866_second_two   -1.158204\n",
       "chr16.1867_top_two      -1.314901\n",
       "chr16.1897_top_two       1.184870\n",
       "umi_count                0.771435\n",
       "dtype: float64"
      ]
     },
     "execution_count": 11,
     "metadata": {},
     "output_type": "execute_result"
    }
   ],
   "source": [
    "OLS_env_1 = sm.OLS(data_env_1.loc[:,'ENSG00000166501'],data_env_1.loc[:, data_env_1.columns!='ENSG00000166501']).fit()\n",
    "OLS_env_1.params\n",
    "OLS_env_2 = sm.OLS(data_env_2.loc[:,'ENSG00000166501'],data_env_2.loc[:, data_env_2.columns!='ENSG00000166501']).fit()\n",
    "OLS_env_2.params"
   ]
  },
  {
   "cell_type": "code",
   "execution_count": 12,
   "metadata": {},
   "outputs": [
    {
     "name": "stdout",
     "output_type": "stream",
     "text": [
      "                                 OLS Regression Results                                \n",
      "=======================================================================================\n",
      "Dep. Variable:        ENSG00000166501   R-squared (uncentered):                   0.287\n",
      "Model:                            OLS   Adj. R-squared (uncentered):              0.287\n",
      "Method:                 Least Squares   F-statistic:                              2495.\n",
      "Date:                Wed, 03 Mar 2021   Prob (F-statistic):                        0.00\n",
      "Time:                        07:24:25   Log-Likelihood:                     -1.6110e+05\n",
      "No. Observations:               68098   AIC:                                  3.222e+05\n",
      "Df Residuals:                   68087   BIC:                                  3.223e+05\n",
      "Df Model:                          11                                                  \n",
      "Covariance Type:            nonrobust                                                  \n",
      "=========================================================================================\n",
      "                            coef    std err          t      P>|t|      [0.025      0.975]\n",
      "-----------------------------------------------------------------------------------------\n",
      "chr16.1822_top_two        0.1065      0.134      0.794      0.427      -0.157       0.370\n",
      "chr16.1856_top_two        0.7170      0.142      5.034      0.000       0.438       0.996\n",
      "chr16.1857_top_two        0.1573      0.180      0.872      0.383      -0.196       0.511\n",
      "chr16.1863_second_two     0.2374      0.141      1.678      0.093      -0.040       0.515\n",
      "chr16.1863_top_two       -0.1037      0.135     -0.767      0.443      -0.369       0.161\n",
      "chr16.1865_top_two       -0.5652      0.115     -4.895      0.000      -0.792      -0.339\n",
      "chr16.1866_top_two       -0.9765      0.117     -8.324      0.000      -1.206      -0.747\n",
      "chr16.1866_second_two    -1.1582      0.166     -6.972      0.000      -1.484      -0.833\n",
      "chr16.1867_top_two       -1.3149      0.143     -9.208      0.000      -1.595      -1.035\n",
      "chr16.1897_top_two        1.1849      0.113     10.482      0.000       0.963       1.406\n",
      "umi_count                 0.7714      0.011     70.906      0.000       0.750       0.793\n",
      "==============================================================================\n",
      "Omnibus:                    31100.871   Durbin-Watson:                   2.000\n",
      "Prob(Omnibus):                  0.000   Jarque-Bera (JB):           245634.665\n",
      "Skew:                           2.034   Prob(JB):                         0.00\n",
      "Kurtosis:                      11.368   Cond. No.                         23.4\n",
      "==============================================================================\n",
      "\n",
      "Notes:\n",
      "[1] R² is computed without centering (uncentered) since the model does not contain a constant.\n",
      "[2] Standard Errors assume that the covariance matrix of the errors is correctly specified.\n"
     ]
    }
   ],
   "source": [
    "print(OLS_env_2.summary())"
   ]
  },
  {
   "cell_type": "code",
   "execution_count": 13,
   "metadata": {},
   "outputs": [
    {
     "data": {
      "text/plain": [
       "-0.28809113565718686"
      ]
     },
     "execution_count": 13,
     "metadata": {},
     "output_type": "execute_result"
    }
   ],
   "source": [
    "np.random.normal()"
   ]
  },
  {
   "cell_type": "code",
   "execution_count": null,
   "metadata": {},
   "outputs": [],
   "source": []
  }
 ],
 "metadata": {
  "kernelspec": {
   "display_name": "Python 3",
   "language": "python",
   "name": "python3"
  },
  "language_info": {
   "codemirror_mode": {
    "name": "ipython",
    "version": 3
   },
   "file_extension": ".py",
   "mimetype": "text/x-python",
   "name": "python",
   "nbconvert_exporter": "python",
   "pygments_lexer": "ipython3",
   "version": "3.7.6"
  }
 },
 "nbformat": 4,
 "nbformat_minor": 2
}

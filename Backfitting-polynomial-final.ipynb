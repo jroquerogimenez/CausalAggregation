{
 "cells": [
  {
   "cell_type": "code",
   "execution_count": 1,
   "metadata": {},
   "outputs": [
    {
     "name": "stderr",
     "output_type": "stream",
     "text": [
      "/home/roquero/miniconda3/lib/python3.7/site-packages/matplotlib/__init__.py:886: MatplotlibDeprecationWarning: \n",
      "examples.directory is deprecated; in the future, examples will be found relative to the 'datapath' directory.\n",
      "  \"found relative to the 'datapath' directory.\".format(key))\n"
     ]
    }
   ],
   "source": [
    "import sys, os, itertools, sklearn\n",
    "sys.path.append('/home/roquero/CausalAggregation/Code')\n",
    "import pandas as pd\n",
    "import numpy as np\n",
    "import _pickle as pkl\n",
    "import matplotlib.pyplot as plt\n",
    "import seaborn as sns\n",
    "\n",
    "from sklearn import linear_model\n",
    "from sklearn.linear_model import LassoCV, Lasso\n",
    "from sklearn import datasets\n",
    "from sklearn.metrics import auc\n",
    "from scipy.interpolate import UnivariateSpline\n",
    "from IPython.core.interactiveshell import InteractiveShell\n",
    "InteractiveShell.ast_node_interactivity = \"all\"\n",
    "%reload_ext autoreload\n",
    "%autoreload 2\n",
    "np.set_printoptions(suppress=True)\n",
    "np.set_printoptions(formatter={'float': lambda x: \"{0:0.3f}\".format(x)}, linewidth=100000)\n",
    "from backfitting import Backfitting\n",
    "from base_environment import BaseEnvironment\n",
    "from collection_environment import CollectionEnvironment\n",
    "from regression_method import PolynomialRegression, RandomForestRegression\n",
    "from sklearn.linear_model import LinearRegression, Ridge, Lasso\n",
    "from sklearn.ensemble import RandomForestRegressor\n",
    "from sklearn.preprocessing import PolynomialFeatures\n"
   ]
  },
  {
   "cell_type": "code",
   "execution_count": 16,
   "metadata": {},
   "outputs": [],
   "source": [
    "ik_h, se_h = [], (lambda input_samples:input_samples)\n",
    "ik_x1, se_x1 = ['h'], (lambda input_samples: 2*input_samples[0] + input_samples[1])\n",
    "ik_x2, se_x2 = ['h', 'x1'], (lambda input_samples: input_samples[0] + input_samples[1] + input_samples[2])\n",
    "ik_x3, se_x3 = ['x1', 'x2'], (lambda input_samples: -input_samples[0] + 2*input_samples[1] + input_samples[2])\n",
    "ik_x4, se_x4 = ['x1', 'x3'], (lambda input_samples: np.log(1+np.abs(input_samples[0])) + input_samples[1] + input_samples[2])\n",
    "ik_y, se_y = ['h','x1','x2','x3','x4'], (lambda input_samples:\n",
    "                                         input_samples[0] \n",
    "                                         + input_samples[1]**2\n",
    "                                         #+ 0.5*input_samples[1]*input_samples[2]\n",
    "                                         + 0.5*input_samples[1]*input_samples[2]*input_samples[3]\n",
    "                                         - 0.5*input_samples[3]*input_samples[4]\n",
    "                                         + input_samples[2]*input_samples[4] + 0*input_samples[5])\n",
    "ik_x5, se_x5 = ['x2', 'x4', 'y'], (lambda input_samples: 2*input_samples[0] + input_samples[1] - input_samples[2] + input_samples[3])"
   ]
  },
  {
   "cell_type": "code",
   "execution_count": 17,
   "metadata": {},
   "outputs": [],
   "source": [
    "fh = {'input_keys':ik_h, 'structural_eq': se_h}\n",
    "f1 = {'input_keys':ik_x1, 'structural_eq': se_x1}\n",
    "f2 = {'input_keys':ik_x2, 'structural_eq': se_x2}\n",
    "f3 = {'input_keys':ik_x3, 'structural_eq': se_x3}\n",
    "f4 = {'input_keys':ik_x4, 'structural_eq': se_x4}\n",
    "f5 = {'input_keys':ik_x5, 'structural_eq': se_x5}\n",
    "fy = {'input_keys':ik_y, 'structural_eq': se_y}\n",
    "\n",
    "sh = lambda n_samples: np.random.normal(size=n_samples)\n",
    "s1 = lambda n_samples: np.random.normal(size=n_samples)\n",
    "s2 = lambda n_samples: np.random.normal(size=n_samples)\n",
    "s3 = lambda n_samples: np.random.normal(size=n_samples)\n",
    "s4 = lambda n_samples: np.random.normal(size=n_samples)\n",
    "s5 = lambda n_samples: np.random.normal(size=n_samples)\n",
    "sy = lambda n_samples: np.random.normal(size=n_samples)\n",
    "\n",
    "topo_order = ['h','x1','x2','x3','x4','y','x5']\n",
    "y_key = 'y'\n",
    "x_key = ['x1','x2','x3','x4','x5']\n",
    "\n",
    "structural_equation_dict = {'x1':f1, 'x2':f2, 'x3':f3, 'y':fy, 'x4':f4, 'x5':f5, 'h':fh}\n",
    "disturbance_sampler_dict = {'x1':s1, 'x2':s2, 'x3':s3, 'y':sy, 'x4':s4, 'x5':s5, 'h':sh}\n",
    "\n",
    "base = BaseEnvironment(structural_equation_dict, disturbance_sampler_dict, topo_order, y_key, x_key)\n",
    "coll_env = CollectionEnvironment(base)\n",
    "\n",
    "coll_env.add_env('e1', {'x1':{'type':'independent'},'x2':{'type':'independent'}, 'x3':{'type':'independent'}}, 10000)\n",
    "coll_env.add_env('e2', {'x2':{'type':'independent'},'x4':{'type':'independent'}}, 10000)\n",
    "coll_env.add_env('e3', {'x4':{'type':'independent'},'x3':{'type':'independent'}}, 10000)\n",
    "coll_env.add_env('e4', {'x1':{'type':'independent'},'x5':{'type':'independent'}}, 10000)"
   ]
  },
  {
   "cell_type": "code",
   "execution_count": 19,
   "metadata": {},
   "outputs": [
    {
     "data": {
      "image/png": "[encoded data removed]",
      "text/plain": [
       "<Figure size 432x288 with 1 Axes>"
      ]
     },
     "metadata": {
      "needs_background": "light"
     },
     "output_type": "display_data"
    }
   ],
   "source": [
    "for key in coll_env.env.keys():\n",
    "    _ = plt.scatter(coll_env.env[key].data['X'][2,:],coll_env.env[key].data['Y'][:], label=str(key))\n",
    "_ = plt.legend()"
   ]
  },
  {
   "cell_type": "code",
   "execution_count": 29,
   "metadata": {
    "scrolled": true
   },
   "outputs": [
    {
     "name": "stderr",
     "output_type": "stream",
     "text": [
      " 10%|█         | 2/20 [00:00<00:01,  9.55it/s]"
     ]
    },
    {
     "name": "stdout",
     "output_type": "stream",
     "text": [
      "reweighting values [0.619 14.338 0.867 0.249] 1.7763568394002505e-13\n"
     ]
    },
    {
     "name": "stderr",
     "output_type": "stream",
     "text": [
      "\r",
      " 15%|█▌        | 3/20 [00:00<00:02,  6.06it/s]"
     ]
    },
    {
     "name": "stdout",
     "output_type": "stream",
     "text": [
      "reweighting values [1.056 1.541 0.431 1.998] -1.8050524454044786e-12\n"
     ]
    },
    {
     "name": "stderr",
     "output_type": "stream",
     "text": [
      "\r",
      " 20%|██        | 4/20 [00:00<00:03,  4.68it/s]"
     ]
    },
    {
     "name": "stdout",
     "output_type": "stream",
     "text": [
      "reweighting values [0.808 1.303 8.655 -1.082] -5.122698934475681e-15\n"
     ]
    },
    {
     "name": "stderr",
     "output_type": "stream",
     "text": [
      "\r",
      " 25%|██▌       | 5/20 [00:01<00:03,  3.92it/s]"
     ]
    },
    {
     "name": "stdout",
     "output_type": "stream",
     "text": [
      "reweighting values [0.848 0.073 -0.073 0.043] 1.7947329015535773e-15\n"
     ]
    },
    {
     "name": "stderr",
     "output_type": "stream",
     "text": [
      "\r",
      " 30%|███       | 6/20 [00:01<00:04,  3.37it/s]"
     ]
    },
    {
     "name": "stdout",
     "output_type": "stream",
     "text": [
      "reweighting values [0.082 -0.001 -0.000 0.001] 2.4034559878340772e-20\n"
     ]
    },
    {
     "name": "stderr",
     "output_type": "stream",
     "text": [
      "\r",
      " 35%|███▌      | 7/20 [00:01<00:04,  2.98it/s]"
     ]
    },
    {
     "name": "stdout",
     "output_type": "stream",
     "text": [
      "reweighting values [-0.000 0.000 0.000 -0.000] 1.44524996625265e-20\n"
     ]
    },
    {
     "name": "stderr",
     "output_type": "stream",
     "text": [
      "\r",
      " 40%|████      | 8/20 [00:02<00:04,  2.61it/s]"
     ]
    },
    {
     "name": "stdout",
     "output_type": "stream",
     "text": [
      "reweighting values [-0.002 0.000 0.000 -0.000] 1.1752582143153417e-20\n"
     ]
    },
    {
     "name": "stderr",
     "output_type": "stream",
     "text": [
      "\r",
      " 45%|████▌     | 9/20 [00:02<00:03,  2.78it/s]"
     ]
    },
    {
     "name": "stdout",
     "output_type": "stream",
     "text": [
      "reweighting values [-0.000 0.000 0.000 -0.000] -2.6469779601696886e-23\n"
     ]
    },
    {
     "name": "stderr",
     "output_type": "stream",
     "text": [
      "\r",
      " 50%|█████     | 10/20 [00:03<00:04,  2.35it/s]"
     ]
    },
    {
     "name": "stdout",
     "output_type": "stream",
     "text": [
      "reweighting values [-0.000 0.000 0.000 -0.000] -5.955700410381799e-23\n"
     ]
    },
    {
     "name": "stderr",
     "output_type": "stream",
     "text": [
      "\r",
      " 55%|█████▌    | 11/20 [00:03<00:04,  2.08it/s]"
     ]
    },
    {
     "name": "stdout",
     "output_type": "stream",
     "text": [
      "reweighting values [0.000 -0.000 -0.000 0.000] 2.150669592637872e-22\n"
     ]
    },
    {
     "name": "stderr",
     "output_type": "stream",
     "text": [
      "\r",
      " 60%|██████    | 12/20 [00:04<00:04,  1.78it/s]"
     ]
    },
    {
     "name": "stdout",
     "output_type": "stream",
     "text": [
      "reweighting values [-0.000 0.000 0.000 -0.000] 8.271806125530277e-25\n"
     ]
    },
    {
     "name": "stderr",
     "output_type": "stream",
     "text": [
      "\r",
      " 65%|██████▌   | 13/20 [00:05<00:04,  1.65it/s]"
     ]
    },
    {
     "name": "stdout",
     "output_type": "stream",
     "text": [
      "reweighting values [0.000 -0.000 -0.000 0.000] 7.031035206700735e-24\n"
     ]
    },
    {
     "name": "stderr",
     "output_type": "stream",
     "text": [
      "\r",
      " 70%|███████   | 14/20 [00:06<00:03,  1.53it/s]"
     ]
    },
    {
     "name": "stdout",
     "output_type": "stream",
     "text": [
      "reweighting values [-0.000 0.000 0.000 -0.000] -2.0679515313825692e-25\n"
     ]
    },
    {
     "name": "stderr",
     "output_type": "stream",
     "text": [
      "\r",
      " 75%|███████▌  | 15/20 [00:06<00:03,  1.39it/s]"
     ]
    },
    {
     "name": "stdout",
     "output_type": "stream",
     "text": [
      "reweighting values [0.000 -0.000 -0.000 0.000] -1.0339757656912846e-25\n"
     ]
    },
    {
     "name": "stderr",
     "output_type": "stream",
     "text": [
      "\r",
      " 80%|████████  | 16/20 [00:07<00:03,  1.32it/s]"
     ]
    },
    {
     "name": "stdout",
     "output_type": "stream",
     "text": [
      "reweighting values [-0.000 0.000 0.000 -0.000] 9.305781891221561e-25\n"
     ]
    },
    {
     "name": "stderr",
     "output_type": "stream",
     "text": [
      "\r",
      " 85%|████████▌ | 17/20 [00:08<00:02,  1.23it/s]"
     ]
    },
    {
     "name": "stdout",
     "output_type": "stream",
     "text": [
      "reweighting values [0.000 -0.000 -0.000 0.000] 4.1359030627651384e-25\n"
     ]
    },
    {
     "name": "stderr",
     "output_type": "stream",
     "text": [
      "\r",
      " 90%|█████████ | 18/20 [00:09<00:01,  1.17it/s]"
     ]
    },
    {
     "name": "stdout",
     "output_type": "stream",
     "text": [
      "reweighting values [-0.000 0.000 0.000 -0.000] -2.0679515313825692e-25\n"
     ]
    },
    {
     "name": "stderr",
     "output_type": "stream",
     "text": [
      "\r",
      " 95%|█████████▌| 19/20 [00:10<00:00,  1.09it/s]"
     ]
    },
    {
     "name": "stdout",
     "output_type": "stream",
     "text": [
      "reweighting values [0.000 -0.000 -0.000 0.000] 6.462348535570529e-27\n"
     ]
    },
    {
     "name": "stderr",
     "output_type": "stream",
     "text": [
      "\r",
      "100%|██████████| 20/20 [00:11<00:00,  1.04it/s]"
     ]
    },
    {
     "name": "stdout",
     "output_type": "stream",
     "text": [
      "reweighting values [-0.000 0.000 0.000 -0.000] -4.8467614016778965e-26\n"
     ]
    },
    {
     "name": "stderr",
     "output_type": "stream",
     "text": [
      "\r",
      "100%|██████████| 20/20 [00:12<00:00,  1.54it/s]"
     ]
    },
    {
     "name": "stdout",
     "output_type": "stream",
     "text": [
      "reweighting values [0.000 -0.000 -0.000 0.000] -8.077935669463161e-28\n",
      "Reconstruction loss 31.350181387475615\n",
      "Validation loss 4.357787236454649\n"
     ]
    },
    {
     "name": "stderr",
     "output_type": "stream",
     "text": [
      "\n"
     ]
    }
   ],
   "source": [
    "params_method = {'regression_method':'HuberRegressor',\n",
    "                 'power_features': {\n",
    "                     'e1':3,\n",
    "                     'e2':2,\n",
    "                     'e3':2,\n",
    "                     'e4':2,\n",
    "                     'e5':2,\n",
    "                                     },\n",
    "                 'selected_features':{\n",
    "                     #'e1':['1','x1^0', 'x2^0','x2^2',  'x3^0', 'x1^0x2^0', 'x1^0x3^0',  'x2^0x3^0', 'x3^2', 'x1^3',\n",
    "                     #      'x1^2x2^0', 'x1^2x3^0', 'x1^0x2^2', 'x1^0x3^2', 'x2^3', 'x2^2x3^0', 'x2^0x3^2', 'x3^3'],\n",
    "                     'e1':['1','x1^0', 'x2^0','x2^2',  'x3^0', 'x1^2', 'x1^0x2^0', 'x1^0x3^0',  'x2^0x3^0', 'x3^2', 'x1^3',\n",
    "                           'x1^2x2^0', 'x1^2x3^0', 'x1^0x2^2', 'x1^0x2^0x3^0', 'x1^0x3^2', 'x2^3', 'x2^2x3^0', 'x2^0x3^2', 'x3^3'],\n",
    "                     'e2':['x2^0x4^0'],\n",
    "                     'e3':['x3^0x4^0'],\n",
    "                     'e4':['x1^0x5^0'],\n",
    "                 },\n",
    "                 'n_estimators':20\n",
    "                }\n",
    "\n",
    "backfit = Backfitting(PolynomialRegression, \n",
    "                      'boosting',\n",
    "                      max_n_iter=20,\n",
    "                      gap_convergence=1e-5,\n",
    "                      warm_start=False, \n",
    "                      params_method=params_method,\n",
    "                      reweighting_candidates=True,\n",
    "                      update_within_loop=False,\n",
    "                     true_y_coeff={'x1^2':1, 'x1^0x2^0x3^0':0.5, 'x3^0x4^0':-0.5, 'x2^0x4^0':1})\n",
    "\n",
    "                     \n",
    "res = backfit.fit(coll_env)\n",
    "print('Reconstruction loss', res[0])\n",
    "print('Validation loss', res[1])"
   ]
  },
  {
   "cell_type": "code",
   "execution_count": null,
   "metadata": {},
   "outputs": [],
   "source": []
  },
  {
   "cell_type": "code",
   "execution_count": 30,
   "metadata": {},
   "outputs": [
    {
     "name": "stderr",
     "output_type": "stream",
     "text": [
      "/home/roquero/miniconda3/lib/python3.7/site-packages/sklearn/linear_model/_coordinate_descent.py:531: ConvergenceWarning: Objective did not converge. You might want to increase the number of iterations. Duality gap: 7266.162381290206, tolerance: 225.56087485941995\n",
      "  positive)\n"
     ]
    },
    {
     "data": {
      "text/plain": [
       "Lasso(alpha=0.01)"
      ]
     },
     "execution_count": 30,
     "metadata": {},
     "output_type": "execute_result"
    },
    {
     "data": {
      "text/plain": [
       "0.48738406179690685"
      ]
     },
     "execution_count": 30,
     "metadata": {},
     "output_type": "execute_result"
    },
    {
     "data": {
      "text/plain": [
       "0.8042037948395578"
      ]
     },
     "execution_count": 30,
     "metadata": {},
     "output_type": "execute_result"
    }
   ],
   "source": [
    "poly = PolynomialFeatures(\n",
    "                degree=3\n",
    "                )\n",
    "x = poly.fit_transform(backfit.x_train_full.T)\n",
    "lr = Lasso(alpha=0.01)\n",
    "lr.fit(x, backfit.y_train_full)\n",
    "np.mean(np.square(lr.predict(poly.fit_transform(backfit.x_val_full.T))-backfit.y_val_full))\n",
    "np.mean(np.square(backfit.output_function_merged(backfit.x_val_full)-backfit.true_function_y(backfit.x_val_full)))"
   ]
  },
  {
   "cell_type": "code",
   "execution_count": 22,
   "metadata": {},
   "outputs": [
    {
     "data": {
      "text/plain": [
       "(array([1.000, 1.000, 0.000, 1.000, 1.000, 0.000, 0.000, 0.000, 0.000, 0.000, 0.000, 1.000, 1.000, 0.000, 0.000, 3.000, 0.000, 1.000, 1.000, 0.000, 0.000, 2.000, 1.000, 0.000, 1.000, 1.000, 0.000, 2.000, 2.000, 3.000, 4.000, 3.000, 3.000, 7.000, 2.000, 7.000, 6.000, 7.000, 10.000, 19.000, 18.000, 24.000, 35.000, 37.000, 46.000, 76.000, 100.000, 149.000, 282.000, 835.000, 5028.000, 665.000, 202.000, 113.000, 66.000, 41.000, 32.000, 26.000, 22.000, 16.000, 14.000, 8.000, 8.000, 8.000, 11.000, 5.000, 7.000, 6.000, 2.000, 1.000, 2.000, 5.000, 3.000, 1.000, 3.000, 1.000, 1.000, 0.000, 2.000, 1.000, 0.000, 0.000, 2.000, 0.000, 0.000, 0.000, 0.000, 0.000, 2.000, 0.000, 0.000, 1.000, 0.000, 0.000, 0.000, 0.000, 1.000, 0.000, 0.000, 1.000]),\n",
       " array([-12.873, -12.618, -12.363, -12.109, -11.854, -11.599, -11.344, -11.090, -10.835, -10.580, -10.325, -10.071, -9.816, -9.561, -9.306, -9.052, -8.797, -8.542, -8.288, -8.033, -7.778, -7.523, -7.269, -7.014, -6.759, -6.504, -6.250, -5.995, -5.740, -5.485, -5.231, -4.976, -4.721, -4.466, -4.212, -3.957, -3.702, -3.448, -3.193, -2.938, -2.683, -2.429, -2.174, -1.919, -1.664, -1.410, -1.155, -0.900, -0.645, -0.391, -0.136, 0.119, 0.373, 0.628, 0.883, 1.138, 1.392, 1.647, 1.902, 2.157, 2.411, 2.666, 2.921, 3.176, 3.430, 3.685, 3.940, 4.195, 4.449, 4.704, 4.959, 5.213, 5.468, 5.723, 5.978, 6.232, 6.487, 6.742, 6.997, 7.251, 7.506, 7.761, 8.016, 8.270, 8.525, 8.780, 9.035, 9.289, 9.544, 9.799, 10.053, 10.308, 10.563, 10.818, 11.072, 11.327, 11.582, 11.837, 12.091, 12.346, 12.601]),\n",
       " <a list of 100 Patch objects>)"
      ]
     },
     "execution_count": 22,
     "metadata": {},
     "output_type": "execute_result"
    },
    {
     "data": {
      "image/png": "[encoded data removed]",
      "text/plain": [
       "<Figure size 432x288 with 1 Axes>"
      ]
     },
     "metadata": {
      "needs_background": "light"
     },
     "output_type": "display_data"
    }
   ],
   "source": [
    "plt.hist(backfit.output_function_merged(backfit.x_val_full)-backfit.true_function_y(backfit.x_val_full), bins=100)"
   ]
  },
  {
   "cell_type": "code",
   "execution_count": 23,
   "metadata": {},
   "outputs": [
    {
     "data": {
      "text/plain": [
       "(array([2.000, 0.000, 0.000, 0.000, 0.000, 0.000, 0.000, 1.000, 1.000, 0.000, 0.000, 0.000, 0.000, 1.000, 1.000, 1.000, 3.000, 2.000, 2.000, 5.000, 2.000, 2.000, 9.000, 3.000, 2.000, 10.000, 8.000, 8.000, 8.000, 12.000, 16.000, 14.000, 17.000, 19.000, 29.000, 20.000, 26.000, 38.000, 41.000, 44.000, 49.000, 67.000, 81.000, 88.000, 107.000, 141.000, 123.000, 165.000, 207.000, 263.000, 268.000, 393.000, 430.000, 512.000, 509.000, 570.000, 506.000, 485.000, 441.000, 360.000, 297.000, 277.000, 192.000, 167.000, 143.000, 118.000, 98.000, 82.000, 63.000, 54.000, 41.000, 39.000, 41.000, 41.000, 33.000, 26.000, 17.000, 24.000, 18.000, 13.000, 14.000, 12.000, 10.000, 14.000, 7.000, 8.000, 12.000, 6.000, 5.000, 1.000, 2.000, 4.000, 1.000, 3.000, 0.000, 0.000, 1.000, 2.000, 1.000, 1.000]),\n",
       " array([-4.393, -4.314, -4.235, -4.155, -4.076, -3.997, -3.918, -3.839, -3.759, -3.680, -3.601, -3.522, -3.442, -3.363, -3.284, -3.205, -3.126, -3.046, -2.967, -2.888, -2.809, -2.730, -2.650, -2.571, -2.492, -2.413, -2.333, -2.254, -2.175, -2.096, -2.017, -1.937, -1.858, -1.779, -1.700, -1.621, -1.541, -1.462, -1.383, -1.304, -1.224, -1.145, -1.066, -0.987, -0.908, -0.828, -0.749, -0.670, -0.591, -0.512, -0.432, -0.353, -0.274, -0.195, -0.115, -0.036, 0.043, 0.122, 0.201, 0.281, 0.360, 0.439, 0.518, 0.597, 0.677, 0.756, 0.835, 0.914, 0.994, 1.073, 1.152, 1.231, 1.310, 1.390, 1.469, 1.548, 1.627, 1.706, 1.786, 1.865, 1.944, 2.023, 2.103, 2.182, 2.261, 2.340, 2.419, 2.499, 2.578, 2.657, 2.736, 2.815, 2.895, 2.974, 3.053, 3.132, 3.211, 3.291, 3.370, 3.449, 3.528]),\n",
       " <a list of 100 Patch objects>)"
      ]
     },
     "execution_count": 23,
     "metadata": {},
     "output_type": "execute_result"
    },
    {
     "data": {
      "image/png": "[encoded data removed]",
      "text/plain": [
       "<Figure size 432x288 with 1 Axes>"
      ]
     },
     "metadata": {
      "needs_background": "light"
     },
     "output_type": "display_data"
    }
   ],
   "source": [
    "plt.hist(lr.predict(poly.fit_transform(backfit.x_val_full.T))-backfit.true_function_y(backfit.x_val_full), bins=100)"
   ]
  },
  {
   "cell_type": "code",
   "execution_count": 24,
   "metadata": {},
   "outputs": [
    {
     "data": {
      "text/plain": [
       "array([0.005, -0.110, 0.020, ..., 0.148, 2.046, 0.002])"
      ]
     },
     "execution_count": 24,
     "metadata": {},
     "output_type": "execute_result"
    },
    {
     "data": {
      "text/plain": [
       "array([0.174, 0.018, -0.025, ..., 0.879, 1.447, -0.259])"
      ]
     },
     "execution_count": 24,
     "metadata": {},
     "output_type": "execute_result"
    }
   ],
   "source": [
    "(backfit.output_function_merged(backfit.x_val_full)-backfit.true_function_y(backfit.x_val_full))\n",
    "(lr.predict(poly.fit_transform(backfit.x_val_full.T))-backfit.true_function_y(backfit.x_val_full))"
   ]
  },
  {
   "cell_type": "code",
   "execution_count": 25,
   "metadata": {},
   "outputs": [
    {
     "data": {
      "text/plain": [
       "array([0.180, -1.270, 1.923, ..., -0.308, 5.925, -0.454])"
      ]
     },
     "execution_count": 25,
     "metadata": {},
     "output_type": "execute_result"
    },
    {
     "data": {
      "text/plain": [
       "array([0.011, -1.398, 1.969, ..., -1.039, 6.524, -0.192])"
      ]
     },
     "execution_count": 25,
     "metadata": {},
     "output_type": "execute_result"
    },
    {
     "data": {
      "text/plain": [
       "array([0.419, -0.625, 0.928, ..., 0.984, 5.524, -0.159])"
      ]
     },
     "execution_count": 25,
     "metadata": {},
     "output_type": "execute_result"
    },
    {
     "data": {
      "text/plain": [
       "array([0.006, -1.288, 1.949, ..., -1.186, 4.478, -0.194])"
      ]
     },
     "execution_count": 25,
     "metadata": {},
     "output_type": "execute_result"
    }
   ],
   "source": [
    "lr.predict(poly.fit_transform(backfit.x_val_full.T))\n",
    "backfit.output_function_merged(backfit.x_val_full)\n",
    "backfit.y_val_full\n",
    "backfit.true_function_y(backfit.x_val_full)"
   ]
  },
  {
   "cell_type": "code",
   "execution_count": 26,
   "metadata": {},
   "outputs": [
    {
     "data": {
      "text/plain": [
       "1.448999077852359"
      ]
     },
     "execution_count": 26,
     "metadata": {},
     "output_type": "execute_result"
    }
   ],
   "source": [
    "backfit.evaluate_val()"
   ]
  },
  {
   "cell_type": "code",
   "execution_count": 13,
   "metadata": {},
   "outputs": [
    {
     "data": {
      "text/plain": [
       "array([0.878, -0.436, -5.023, ..., 0.063, 1.858, -8.945])"
      ]
     },
     "execution_count": 13,
     "metadata": {},
     "output_type": "execute_result"
    }
   ],
   "source": [
    "\n",
    "backfit.y_val_full"
   ]
  },
  {
   "cell_type": "code",
   "execution_count": null,
   "metadata": {},
   "outputs": [],
   "source": []
  }
 ],
 "metadata": {
  "kernelspec": {
   "display_name": "Python 3",
   "language": "python",
   "name": "python3"
  },
  "language_info": {
   "codemirror_mode": {
    "name": "ipython",
    "version": 3
   },
   "file_extension": ".py",
   "mimetype": "text/x-python",
   "name": "python",
   "nbconvert_exporter": "python",
   "pygments_lexer": "ipython3",
   "version": "3.7.6"
  }
 },
 "nbformat": 4,
 "nbformat_minor": 2
}
